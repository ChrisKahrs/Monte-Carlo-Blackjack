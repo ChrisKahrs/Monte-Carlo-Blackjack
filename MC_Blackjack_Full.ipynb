{
 "cells": [
  {
   "cell_type": "code",
   "execution_count": 6,
   "metadata": {},
   "outputs": [],
   "source": [
    "import matplotlib.pyplot as plt\n",
    "import pandas as pd\n",
    "import random"
   ]
  },
  {
   "cell_type": "markdown",
   "metadata": {},
   "source": [
    "# Set up the game."
   ]
  },
  {
   "cell_type": "markdown",
   "metadata": {},
   "source": [
    "Define the rank and suit of a card."
   ]
  },
  {
   "cell_type": "code",
   "execution_count": 7,
   "metadata": {
    "scrolled": true
   },
   "outputs": [],
   "source": [
    "import enum\n",
    "\n",
    "ranks = {\n",
    "    \"two\" : 2,\n",
    "    \"three\" : 3,\n",
    "    \"four\" : 4,\n",
    "    \"five\" : 5,\n",
    "    \"six\" : 6,\n",
    "    \"seven\" : 7,\n",
    "    \"eight\" : 8,\n",
    "    \"nine\" : 9,\n",
    "    \"ten\" : 10,\n",
    "    \"jack\" : 10,\n",
    "    \"queen\" : 10,\n",
    "    \"king\" : 10,\n",
    "    \"ace\" : (1, 11)\n",
    "}\n",
    "    \n",
    "class Suit(enum.Enum):\n",
    "    spades = \"spades\"\n",
    "    clubs = \"clubs\"\n",
    "    diamonds = \"diamonds\"\n",
    "    hearts = \"hearts\""
   ]
  },
  {
   "cell_type": "markdown",
   "metadata": {},
   "source": [
    "Define a card and a deck.\n",
    "\n",
    "Implement shuffle, peek, & deal functions for the deck."
   ]
  },
  {
   "cell_type": "code",
   "execution_count": 8,
   "metadata": {
    "scrolled": true
   },
   "outputs": [],
   "source": [
    "class Card:\n",
    "    def __init__(self, suit, rank, value):\n",
    "        self.suit = suit\n",
    "        self.rank = rank\n",
    "        self.value = value\n",
    "        \n",
    "    def __str__(self):\n",
    "        return self.rank + \" of \" + self.suit.value\n",
    "\n",
    "class Deck:\n",
    "    def __init__(self, num=1):\n",
    "        self.cards = []\n",
    "        for i in range(num):\n",
    "            for suit in Suit:\n",
    "                for rank, value in ranks.items():\n",
    "                    self.cards.append(Card(suit, rank, value))\n",
    "                \n",
    "    def shuffle(self):\n",
    "        random.shuffle(self.cards)\n",
    "        \n",
    "    def deal(self):\n",
    "        return self.cards.pop(0)\n",
    "    \n",
    "    def peek(self):\n",
    "        if len(self.cards) > 0:\n",
    "            return self.cards[0]\n",
    "        \n",
    "    def add_to_bottom(self, card):\n",
    "        self.cards.append(card)\n",
    "        \n",
    "    def __str__(self):\n",
    "        result = \"\"\n",
    "        for card in self.cards:\n",
    "            result += str(card) + \"\\n\"\n",
    "        return result\n",
    "    \n",
    "    def __len__(self):\n",
    "        return len(self.cards)"
   ]
  },
  {
   "cell_type": "markdown",
   "metadata": {},
   "source": [
    "# Set up Blackjack"
   ]
  },
  {
   "cell_type": "markdown",
   "metadata": {},
   "source": [
    "### Define logic for evaluating the value of the dealer's hand.\n",
    "\n",
    "Trickiest part is defining the logic for Aces.\n",
    "\n",
    "_Dealer Logic will not change much! They must follow a set, predictable course of action._"
   ]
  },
  {
   "cell_type": "code",
   "execution_count": 9,
   "metadata": {},
   "outputs": [],
   "source": [
    "# This follows the same, official rules every time.\n",
    "# Still need to figure out what happens if there are multiple Aces.\n",
    "def dealer_eval(player_hand):\n",
    "    num_ace = 0\n",
    "    use_one = 0\n",
    "    for card in player_hand:\n",
    "        if card.rank == \"ace\":\n",
    "            num_ace += 1\n",
    "            use_one += card.value[0] # use 1 for Ace\n",
    "        else:\n",
    "            use_one += card.value\n",
    "    \n",
    "    if num_ace > 0:\n",
    "        # See if using 11 instead of 1 for the Aces gets the \n",
    "        # dealer's hand value closer to the [17, 21] range\n",
    "        \n",
    "        # The dealer will follow Hard 17 rules.\n",
    "        # This means the dealer will not hit again if\n",
    "        # the Ace yields a 17. \n",
    "        \n",
    "        # This also means that Aces initially declared as 11's can\n",
    "        # be changed to 1's as new cards come.\n",
    "        \n",
    "        ace_counter = 0\n",
    "        while ace_counter < num_ace:\n",
    "            # Only add by 10 b/c 1 is already added before\n",
    "            use_eleven = use_one + 10 \n",
    "            \n",
    "            if use_eleven > 21:\n",
    "                return use_one\n",
    "            elif use_eleven >= 17 and use_eleven <= 21:\n",
    "                return use_eleven\n",
    "            else:\n",
    "                # The case where even using Ace as eleven is less than 17.\n",
    "                use_one = use_eleven\n",
    "            \n",
    "            ace_counter += 1\n",
    "        \n",
    "        return use_one\n",
    "    else:\n",
    "        return use_one"
   ]
  },
  {
   "cell_type": "markdown",
   "metadata": {},
   "source": [
    "### Define logic for evaluating the value of the player's hand.\n",
    "\n",
    "Trickiest part is defining the logic for Aces. This logic can be implemented in different ways. I opted for an approach that tries to use an Ace as an 11 whenever possible, and only uses the Ace as a 1 when the alternative would make the player bust."
   ]
  },
  {
   "cell_type": "code",
   "execution_count": 10,
   "metadata": {},
   "outputs": [],
   "source": [
    "def player_eval(player_hand):\n",
    "    num_ace = 0\n",
    "    # use_one means that every ace that in the hand is counted as one.\n",
    "    use_one = 0\n",
    "    for card in player_hand:\n",
    "        if card.rank == \"ace\":\n",
    "            num_ace += 1\n",
    "            use_one += card.value[0] # use 1 for Ace\n",
    "        else:\n",
    "            use_one += card.value\n",
    "    \n",
    "    if num_ace > 0:\n",
    "        # Define player policy for Aces:\n",
    "        # Make Aces 11 if they get you to the range [18,21]\n",
    "        # Otherwise, use one.\n",
    "        \n",
    "        ace_counter = 0\n",
    "        while ace_counter < num_ace:\n",
    "            # Only add by 10 b/c 1 is already added before\n",
    "            use_eleven = use_one + 10 \n",
    "            \n",
    "            if use_eleven > 21:\n",
    "                return use_one\n",
    "            elif use_eleven >= 18 and use_eleven <= 21:\n",
    "                return use_eleven\n",
    "            else:\n",
    "                # This allows for some Aces to be 11s, and others to be 1.\n",
    "                use_one = use_eleven\n",
    "            \n",
    "            ace_counter += 1\n",
    "        \n",
    "        return use_one\n",
    "    else:\n",
    "        return use_one"
   ]
  },
  {
   "cell_type": "markdown",
   "metadata": {},
   "source": [
    "### Define logic for the dealer's turn.\n",
    "\n",
    "This will not change much since the dealer has to follow a defined protocol when making their moves."
   ]
  },
  {
   "cell_type": "code",
   "execution_count": 11,
   "metadata": {},
   "outputs": [],
   "source": [
    "def dealer_turn(dealer_hand, deck):\n",
    "    # Calculate dealer hand's value.\n",
    "    dealer_value = dealer_eval(dealer_hand)\n",
    "\n",
    "    # Define dealer policy (is fixed to official rules)\n",
    "\n",
    "    # The dealer keeps hitting until their total is 17 or more\n",
    "    while dealer_value < 17:\n",
    "        # hit\n",
    "        dealer_hand.append(deck.deal())\n",
    "        dealer_value = dealer_eval(dealer_hand)\n",
    "\n",
    "    return dealer_value, dealer_hand, deck"
   ]
  },
  {
   "cell_type": "markdown",
   "metadata": {},
   "source": [
    "### Main Blackjack play_game() function.\n",
    "\n",
    "Can use higher-order functions functionality to pick which player policy to use."
   ]
  },
  {
   "cell_type": "code",
   "execution_count": 12,
   "metadata": {},
   "outputs": [],
   "source": [
    "def play_game(player_policy, num_decks = 2, start_cash = 1000, num_rounds = 100):\n",
    "    # Our Blackjack deck will be made of 2 normal decks by default.\n",
    "    bj_deck = Deck(num_decks)\n",
    "\n",
    "    # Shuffle before beginning. Only shuffle once before the start of each game.\n",
    "    bj_deck.shuffle()\n",
    "    \n",
    "    # Keeps track of rewards/punishments. Also allows game to end before num_rounds.\n",
    "    player_cash = start_cash\n",
    "    \n",
    "    rounds_played = 0\n",
    "    \n",
    "    while rounds_played < num_rounds and player_cash > 0:\n",
    "        # Assume player bets 100 each round.\n",
    "        # Gains 100 for winning round.\n",
    "        # Loses 100 for losing round.\n",
    "        # Nothing happens if tie. (Needs to change when actually training, so that agent tries to win more than tie.)\n",
    "        \n",
    "        player_hand = [bj_deck.deal(), bj_deck.deal()]\n",
    "        dealer_hand = [bj_deck.deal(), bj_deck.deal()]\n",
    "        \n",
    "        # The current policy does not care about dealer's upcard.\n",
    "        #dealer_upcard = dealer_hand[0]\n",
    "        \n",
    "        ## Begin player turn phase.\n",
    "        \n",
    "        player_value, player_hand, bj_deck = player_policy(player_hand, bj_deck)\n",
    "            \n",
    "        ## Player turn phase over.\n",
    "        \n",
    "        #--------------------------------------------------------#\n",
    "        \n",
    "        ## Begin automated phase of the Dealer's Play and\n",
    "        ## determining the winner of the round.\n",
    "        \n",
    "        if player_value > 21: # above 21, player loses automatically.\n",
    "            player_cash -= 100\n",
    "        elif player_value == 21: # blackjack! Player wins automatically.\n",
    "            player_cash += 100\n",
    "        else:\n",
    "            ## Begin dealer turn phase.\n",
    "            \n",
    "            dealer_value, dealer_hand, bj_deck = dealer_turn(dealer_hand, bj_deck)\n",
    "                \n",
    "            ## End of dealer turn phase\n",
    "            \n",
    "            #------------------------------------------------------------#\n",
    "            \n",
    "            ## Final Compare\n",
    "            \n",
    "            if dealer_value > 21: # dealer above 21, player wins automatically\n",
    "                player_cash += 100\n",
    "            elif dealer_value == 21: # dealer has blackjack, player loses automatically\n",
    "                player_cash -= 100\n",
    "            else: # dealer and player have values less than 21.\n",
    "                if player_value > dealer_value: # player closer to 21, player wins.\n",
    "                    player_cash += 100\n",
    "                elif player_value < dealer_value: # dealer closer to 21, dealer wins.\n",
    "                    player_cash -= 100\n",
    "                # Nothing happens if a tie.\n",
    "                \n",
    "        ## End of round formalities\n",
    "        \n",
    "        # Add all cards to the end of deck, and shuffle. \n",
    "        # (Shuffling not usually done in casino blackjack.)\n",
    "        bj_deck.cards += player_hand\n",
    "        bj_deck.cards += dealer_hand\n",
    "        bj_deck.shuffle()\n",
    "            \n",
    "        rounds_played += 1\n",
    "        \n",
    "    # Returns net gains/losses of playing\n",
    "    return player_cash - start_cash"
   ]
  },
  {
   "cell_type": "markdown",
   "metadata": {},
   "source": [
    "# Simulate Discrete Policy + Graph Results\n",
    "\n",
    "Discrete Policy:  \n",
    "If hand >= 18: player stands.  \n",
    "Else: Player hits."
   ]
  },
  {
   "cell_type": "markdown",
   "metadata": {},
   "source": [
    "**Implement Discrete Policy by defining what player should do on their turn.**"
   ]
  },
  {
   "cell_type": "code",
   "execution_count": 13,
   "metadata": {},
   "outputs": [],
   "source": [
    "def discrete_policy(player_hand, deck):\n",
    "    player_value = player_eval(player_hand)\n",
    "    \n",
    "    # Implement Discrete Policy\n",
    "    # If hand >= 18, stand. Otherwise, hit.\n",
    "    while player_value < 18:\n",
    "        # hit\n",
    "        player_hand.append(deck.deal())\n",
    "        player_value = player_eval(player_hand)\n",
    "        \n",
    "    return player_value, player_hand, deck"
   ]
  },
  {
   "cell_type": "markdown",
   "metadata": {},
   "source": [
    "## Run 100,000 games with just 1 round in each to approximate average gain/loss per round."
   ]
  },
  {
   "cell_type": "markdown",
   "metadata": {},
   "source": [
    "**Run Simulations.**"
   ]
  },
  {
   "cell_type": "code",
   "execution_count": 14,
   "metadata": {},
   "outputs": [],
   "source": [
    "results = {}\n",
    "\n",
    "num_rds = 1\n",
    "num_games = 100000\n",
    "\n",
    "net_avg = 0\n",
    "\n",
    "for i in range(num_games):\n",
    "    net_avg += play_game(discrete_policy, num_rounds = num_rds)\n",
    "net_avg /= num_games\n",
    "\n",
    "results[num_games] = net_avg"
   ]
  },
  {
   "cell_type": "markdown",
   "metadata": {},
   "source": [
    "**Graph the results.**"
   ]
  },
  {
   "cell_type": "code",
   "execution_count": 15,
   "metadata": {},
   "outputs": [
    {
     "data": {
      "image/png": "[encoded data removed]",
      "text/plain": [
       "<Figure size 640x480 with 1 Axes>"
      ]
     },
     "metadata": {},
     "output_type": "display_data"
    }
   ],
   "source": [
    "# Load rewards to a df\n",
    "# x-axis will be # of games played. Not really an x-axis b/c there is just one value\n",
    "# y-axis will the avg gains/losses for any given round using Discrete Policy\n",
    "df = pd.DataFrame(list(results.values()), columns = [\"sums\"], index = results.keys())\n",
    "\n",
    "# sort by index align x/y axis properly\n",
    "df.sort_index(inplace=True)\n",
    "\n",
    "df.plot.bar()\n",
    "\n",
    "plt.xlabel(\"# of Rounds\")\n",
    "plt.ylabel(\"Avg Rewards per Round ($)\")\n",
    "plt.title(\"Avg Rewards per Round for 100,000 Rounds using Discrete Policy\")\n",
    "\n",
    "plt.show()"
   ]
  },
  {
   "cell_type": "markdown",
   "metadata": {},
   "source": [
    "# Simulate Stochastic Policy + Graph Results\n",
    "\n",
    "Stochastic Policy:  \n",
    "If hand >= 18: 80% player stands, 20% player hits  \n",
    "Else: 80% player hits, 20% player stands."
   ]
  },
  {
   "cell_type": "markdown",
   "metadata": {},
   "source": [
    "**Implement Stochastic Policy by defining what player should do on their turn.**"
   ]
  },
  {
   "cell_type": "code",
   "execution_count": 16,
   "metadata": {},
   "outputs": [],
   "source": [
    "def stochastic_policy(player_hand, deck):\n",
    "    player_value = player_eval(player_hand)\n",
    "    \n",
    "    # Implement Stochastic Policy\n",
    "    # If hand >= 18: 80% Stand, 20% Hit\n",
    "    # Else: 80% Hit, 20% Stand\n",
    "    \n",
    "    stand = False\n",
    "    while player_value < 18 and stand == False:\n",
    "        percent = random.randint(1, 10)\n",
    "        if percent <= 8:\n",
    "            # hit\n",
    "            player_hand.append(deck.deal())\n",
    "            player_value = player_eval(player_hand)\n",
    "        else:\n",
    "            # stand\n",
    "            stand = True\n",
    "    \n",
    "    if stand:\n",
    "        return player_value, player_hand, deck\n",
    "    \n",
    "    # player_value is now >= 18.\n",
    "    if player_value < 21:\n",
    "        percent = random.randint(1, 10)\n",
    "        if percent > 8:\n",
    "            # hit\n",
    "            player_hand.append(deck.deal())\n",
    "            player_value = player_eval(player_hand)        \n",
    "            \n",
    "        # else: Do nothing, stand.\n",
    "    # else: player_value is 21 or higher, so we must stand in both cases.\n",
    "    \n",
    "    return player_value, player_hand, deck"
   ]
  },
  {
   "cell_type": "markdown",
   "metadata": {},
   "source": [
    "## Run 100,000 games with just 1 round in each to approximate average gain/loss per round."
   ]
  },
  {
   "cell_type": "markdown",
   "metadata": {},
   "source": [
    "**Run Simulations.**"
   ]
  },
  {
   "cell_type": "code",
   "execution_count": 17,
   "metadata": {},
   "outputs": [],
   "source": [
    "results = {}\n",
    "\n",
    "num_rds = 1\n",
    "num_games = 100000\n",
    "\n",
    "net_avg = 0\n",
    "\n",
    "for i in range(num_games):\n",
    "    net_avg += play_game(stochastic_policy, num_rounds = num_rds)\n",
    "net_avg /= num_games\n",
    "\n",
    "results[num_games] = net_avg"
   ]
  },
  {
   "cell_type": "markdown",
   "metadata": {},
   "source": [
    "**Graph the results.**"
   ]
  },
  {
   "cell_type": "code",
   "execution_count": 18,
   "metadata": {},
   "outputs": [
    {
     "data": {
      "image/png": "[encoded data removed]",
      "text/plain": [
       "<Figure size 640x480 with 1 Axes>"
      ]
     },
     "metadata": {},
     "output_type": "display_data"
    }
   ],
   "source": [
    "# Load rewards to a df\n",
    "# x-axis will be # of games played. Not really an x-axis b/c there is just one value\n",
    "# y-axis will the avg gains/losses for any given round using Stochastic Policy\n",
    "df = pd.DataFrame(list(results.values()), columns = [\"sums\"], index = results.keys())\n",
    "\n",
    "# sort by index align x/y axis properly\n",
    "df.sort_index(inplace=True)\n",
    "\n",
    "df.plot.bar()\n",
    "\n",
    "plt.xlabel(\"# of Rounds\")\n",
    "plt.ylabel(\"Avg Rewards per Round ($)\")\n",
    "plt.title(\"Avg Rewards per Round for 100,000 Rounds using Stochastic Policy\")\n",
    "\n",
    "plt.show()"
   ]
  },
  {
   "cell_type": "markdown",
   "metadata": {},
   "source": [
    "## Discrete Policy vs Stochastic Policy\n",
    "\n",
    "By comparing the charts for these two policies, we can hypothesize that the Discrete Policy is a better approach to Blackjack than Stochastic Policy\n",
    "\n",
    "The graph for the Stochastic Policy shows that as the # of rounds per game increase, the net average rewards decline at a faster rate than that of the Discrete Policy. However, this is not a very reliable metric/visualization.\n",
    "\n",
    "The second pair of graphs that determine average rewards per round are much more insightful. The average result for any given round of Blackjack using Discrete Policy is about -\\\\$10. That value is about -\\\\$20 when using Stochastic Policy. Both strategies yield negative returns, meaning that a Blackjack player will only lose money in the long run by using either of these strategies.\n",
    "\n",
    "-\\\\$10 rewards for Discrete Policy means that the casino has an edge of about 10% when a player uses this strategy. This is because the max that a player can gain/lose in any given round in the current Blackjack environment is \\\\$100. So, -\\\\$10 rewards in the context of a max gain/loss of \\\\$100 is a 10% disadvantage. This means that Stochastic Policy yields a 20% disadvantage for the player. My goal is to employ Reinforcement Learning and Monte Carlo approaches to train my Blackjack agent to learn a policy that (hopefully) yields a positive edge for the player. Any % above 0% will suffice to guarantee net gains in the long run.\n",
    "\n",
    "I believe this discrepancy between Discrete Policy and Stochastic Policy is caused by the way the policies are defined. The Stochastic Policy is essentially a worse variation of the Discrete Policy. The Stochastic Policy introduces a 20% chance to make an ill-advised decision in 2 binary states. These binary states are: the player's hand value is >= 18 and the player's hand value is < 18. \n",
    "\n",
    "Standing when hand value >= 18 and hitting when hand value < 18 seem to be reasonably safe ways to play Blackjack. This is how Discrete Policy is defined. Although this policy is still very bad in a larger scope, it is understandable how Stochastic Policy makes Discrete Policy even worse. Adding a 20% chance to hit when hand value >= 18 seems to open the strategy up to more unneccesary losses in the long run. The same is also true of adding a 20% chance to stand when hand value < 18.\n",
    "\n",
    "For example, it is understandable to add the 20% chance to stand for hand values between 14-18. However, this 20% stand possibility also exists for all hand values below 14, which does not make much sense. Overall, the few advantages gained in the 14-18 hand value range do not outweigh the disastrous consequences on all hand values below 14."
   ]
  },
  {
   "cell_type": "markdown",
   "metadata": {},
   "source": [
    "## Simulate Using Edward O. Thorpe's Basic Strategy\n",
    "\n",
    "In the 1960s, mathematician Edward Thorpe published a paper and book on \"Beating the Dealer\". He devised the policy chart below that simplifies the process of when to hit/stand/double/split based on the player's hand and the dealer's upcard. We can expect to see a 0.44% edge for the casino with Thorpe's \"Basic\" Strategy chart, which is much better than the Discrete Policy.\n",
    "\n",
    "In Part 3, we will see that the AI organically approximates its policy to something very similar to Thorpe's strategy. It is very impressive that Thorpe derived his strategy without modern tools and technologies."
   ]
  },
  {
   "cell_type": "markdown",
   "metadata": {},
   "source": [
    "[Edward Thorpe's Basic Strategy Chart](http://www.chasingthefrog.com/reelfaces/21basicstrategy.php#:~:text=In%20his%201960s%20book%20Beat,following%20version%20of%20Edward%20O.)"
   ]
  },
  {
   "cell_type": "markdown",
   "metadata": {},
   "source": [
    "### Implement Edward Thorpe's Basic Strategy"
   ]
  },
  {
   "cell_type": "code",
   "execution_count": 19,
   "metadata": {},
   "outputs": [],
   "source": [
    "# 0 -> stand\n",
    "# 1 -> hit\n",
    "ss_chart = {\n",
    "    12 : [1,1,0,0,0,1,1,1,1,1],\n",
    "    13 : [0,0,0,0,0,1,1,1,1,1],\n",
    "    14 : [0,0,0,0,0,1,1,1,1,1],\n",
    "    15 : [0,0,0,0,0,1,1,1,1,1],\n",
    "    16 : [0,0,0,0,0,1,1,1,1,1]\n",
    "}\n",
    "\n",
    "def basic_strategy_policy(player_hand, dealer_upcard, deck):\n",
    "    player_value = player_eval(player_hand)\n",
    "    \n",
    "    while player_value < 17:\n",
    "        if player_value < 12: # Always hit if < 12\n",
    "            # hit\n",
    "            player_hand.append(deck.deal())\n",
    "            player_value = player_eval(player_hand)\n",
    "        else: # use ss_chart for >= 12 and < 17\n",
    "            action = None\n",
    "            if dealer_upcard.rank == \"ace\":\n",
    "                action = ss_chart[player_value][-1]\n",
    "            else:\n",
    "                action = ss_chart[player_value][dealer_upcard.value - 2]\n",
    "                \n",
    "            if action == 0: # stand\n",
    "                return player_value, player_hand, deck\n",
    "            else: # action == 1, which is hit\n",
    "                # hit\n",
    "                player_hand.append(deck.deal())\n",
    "                player_value = player_eval(player_hand)\n",
    "        \n",
    "    # Always stand if >= 17 and <= 21.\n",
    "    return player_value, player_hand, deck"
   ]
  },
  {
   "cell_type": "markdown",
   "metadata": {},
   "source": [
    "**Tweak play_game() to pass dealer_upcard into the player_policy.**\n",
    "\n",
    "Since Thorpe's strategy considers the dealer's upcard, we need to store and use this value when consulting `basic_strategy_policy()` for the next action."
   ]
  },
  {
   "cell_type": "code",
   "execution_count": 20,
   "metadata": {},
   "outputs": [],
   "source": [
    "def play_game(player_policy, num_decks = 2, start_cash = 1000, num_rounds = 100):\n",
    "    # Our Blackjack deck will be made of 2 normal decks by default.\n",
    "    bj_deck = Deck(num_decks)\n",
    "\n",
    "    # Shuffle before beginning. Only shuffle once before the start of each game.\n",
    "    bj_deck.shuffle()\n",
    "    \n",
    "    # Keeps track of rewards/punishments. Also allows game to end before num_rounds.\n",
    "    player_cash = start_cash\n",
    "    \n",
    "    rounds_played = 0\n",
    "    \n",
    "    while rounds_played < num_rounds and player_cash > 0:\n",
    "        # Assume player bets 100 each round.\n",
    "        # Gains 100 for winning round.\n",
    "        # Loses 100 for losing round.\n",
    "        # Nothing happens if tie. (Needs to be negative when actually training, so that agent tries to win more than tie.)\n",
    "        \n",
    "        player_hand = [bj_deck.deal(), bj_deck.deal()]\n",
    "        dealer_hand = [bj_deck.deal(), bj_deck.deal()]\n",
    "        \n",
    "        dealer_upcard = dealer_hand[0]\n",
    "        \n",
    "        ## Begin player turn phase.\n",
    "        \n",
    "        player_value, player_hand, bj_deck = player_policy(player_hand, dealer_upcard, bj_deck)\n",
    "            \n",
    "        ## Player turn phase over.\n",
    "        \n",
    "        #--------------------------------------------------------#\n",
    "        \n",
    "        ## Begin automated phase of the Dealer's Play and\n",
    "        ## determining the winner of the round.\n",
    "        \n",
    "        if player_value > 21: # above 21, player loses automatically.\n",
    "            player_cash -= 100\n",
    "        elif player_value == 21: # blackjack! Player wins automatically.\n",
    "            player_cash += 100\n",
    "        else:\n",
    "            ## Begin dealer turn phase.\n",
    "            \n",
    "            dealer_value, dealer_hand, bj_deck = dealer_turn(dealer_hand, bj_deck)\n",
    "                \n",
    "            ## End of dealer turn phase\n",
    "            \n",
    "            #------------------------------------------------------------#\n",
    "            \n",
    "            ## Final Compare\n",
    "            \n",
    "            if dealer_value > 21: # dealer above 21, player wins automatically\n",
    "                player_cash += 100\n",
    "            elif dealer_value == 21: # dealer has blackjack, player loses automatically\n",
    "                player_cash -= 100\n",
    "            else: # dealer and player have values less than 21.\n",
    "                if player_value > dealer_value: # player closer to 21, player wins.\n",
    "                    player_cash += 100\n",
    "                elif player_value < dealer_value: # dealer closer to 21, dealer wins.\n",
    "                    player_cash -= 100\n",
    "                # Nothing happens if a tie.\n",
    "                \n",
    "        ## End of round formalities\n",
    "        \n",
    "        # Add all cards to the end of deck, and shuffle. \n",
    "        # (Shuffling not usually done in casino blackjack.)\n",
    "        bj_deck.cards += player_hand\n",
    "        bj_deck.cards += dealer_hand\n",
    "        bj_deck.shuffle()\n",
    "            \n",
    "        rounds_played += 1\n",
    "        \n",
    "    # Returns net gains/losses of playing\n",
    "    return player_cash - start_cash"
   ]
  },
  {
   "cell_type": "markdown",
   "metadata": {},
   "source": [
    "**Run Simple Simulations.**\n",
    "\n",
    "Don't make x-axis # of rounds. Don't vary the number of rounds. The previous simulation shows that there aren't any reliable trends that can be observed by splitting it up by # of rounds.\n",
    "\n",
    "Focus more on just repeatedly running a game with a high, set # of rounds to get towards a average reward.\n",
    "\n",
    "Here, we opt for 10,000 games of 1 round each to see the average reward per round."
   ]
  },
  {
   "cell_type": "code",
   "execution_count": 21,
   "metadata": {},
   "outputs": [],
   "source": [
    "results = {}\n",
    "num_rds = 1\n",
    "num_games = 10000\n",
    "\n",
    "for i in range(num_games):\n",
    "    net_avg += play_game(basic_strategy_policy, num_rounds = num_rds)\n",
    "net_avg /= num_games\n",
    "\n",
    "results[num_games] = net_avg"
   ]
  },
  {
   "cell_type": "markdown",
   "metadata": {},
   "source": [
    "**Graph the results.**"
   ]
  },
  {
   "cell_type": "code",
   "execution_count": 22,
   "metadata": {},
   "outputs": [
    {
     "data": {
      "image/png": "[encoded data removed]",
      "text/plain": [
       "<Figure size 640x480 with 1 Axes>"
      ]
     },
     "metadata": {},
     "output_type": "display_data"
    }
   ],
   "source": [
    "# Load rewards to a df\n",
    "# x-axis will be # of games played. Not really an x-axis b/c there is just one value\n",
    "# y-axis will the avg gains/losses for any given round using Thorpe's Basic Strategy Policy\n",
    "df = pd.DataFrame(list(results.values()), columns = [\"sums\"], index = results.keys())\n",
    "\n",
    "# sort by index align x/y axis properly\n",
    "df.sort_index(inplace=True)\n",
    "\n",
    "df.plot.bar()\n",
    "\n",
    "plt.xlabel(\"# of Rounds\")\n",
    "plt.ylabel(\"Avg Rewards per Round ($)\")\n",
    "plt.title(\"Avg Rewards per Round for 10,000 Rounds using Thorpe's Policy\")\n",
    "\n",
    "plt.show()"
   ]
  },
  {
   "cell_type": "markdown",
   "metadata": {},
   "source": [
    "### Analysis/Comments on Simulating Edward Thorpe's Basic Strategy\n",
    "\n",
    "The chart above shows that this simulation did not yield the actual 0.44\\% casino edge that is expected of Edward Thorpe's Basic Strategy chart. Instead, my simulation yielded approximately a 4\\% casino edge. Although this simulation missed the expected 0.44\\%, this is still a vast improvement from my previous best policy (Discrete Policy). \n",
    "\n",
    "This also motivates me to figure out where this simulation approach went wrong, and how I can improve to get closer to the goal of 0.44%. I think the main reason that my simulations are running sub-optimally is due to the numerous simplifications I made to my version of Blackjack compared to the real game. As a result, there are many nuances of Edward Thorpe's Basic Strategy that are left out. For example, I did not factor in any of Edward Thorpe's logic for playing with Aces in your hand. I just considered the Ace being treated as 1s or 11s and following the simplified chart logic for whatever the hand total happened to be. \n",
    "\n",
    "Additionally, I did not give the player the option to double their bet in my version of Blackjack. Edward Thorpe's Basic Strategy does instruct the player to double-down on their bet in particularly high-value positions. If my simulation were to account for this, I think there would more instances where my player gained a larger reward than they would have in my simplified model, which would have yielded a lower casino edge as a result.\n",
    "\n",
    "Also, I did not explore any of the nuances regarding splitting your Blackjack hand when having a pair of the same rank."
   ]
  },
  {
   "cell_type": "markdown",
   "metadata": {},
   "source": [
    "## Define the OpenAI Gym Environment for Blackjack"
   ]
  },
  {
   "cell_type": "code",
   "execution_count": 25,
   "metadata": {},
   "outputs": [],
   "source": [
    "import random\n",
    "import numpy as np\n",
    "import gymnasium as gym\n",
    "from gymnasium import error, spaces, utils\n",
    "from gymnasium.utils import seeding\n",
    "\n",
    "INITIAL_BALANCE = 1000\n",
    "NUM_DECKS = 6\n",
    "\n",
    "class BlackjackEnv(gym.Env):\n",
    "    metadata = {'render.modes': ['human']}\n",
    "    \n",
    "    def __init__(self):\n",
    "        super(BlackjackEnv, self).__init__()\n",
    "        \n",
    "        # Initialize the blackjack deck.\n",
    "        self.bj_deck = Deck(NUM_DECKS)\n",
    "        \n",
    "        self.player_hand = []\n",
    "        self.dealer_hand = []\n",
    "        \n",
    "        self.reward_options = {\"lose\":-100, \"tie\":0, \"win\":100}\n",
    "        \n",
    "        # hit = 0, stand = 1\n",
    "        self.action_space = spaces.Discrete(2)\n",
    "        \n",
    "        '''\n",
    "        First element of tuple is the range of possible hand values for the player. (3 through 20)\n",
    "        This is the possible range of values that the player will actually have to make a decision for.\n",
    "        Any player hand value 21 or above already has automatic valuations, and needs no input from an\n",
    "        AI Agent. \n",
    "        \n",
    "        However, we also need to add all the hand values that the agent could possibly end up in when\n",
    "        they bust. Maybe the agent can glean some correlations based on what hand value they bust at,\n",
    "        so this should be in the observation space. Also, the layout of OpenAI Gym environment class\n",
    "        makes us have to include the bust-value in the step() function because we need to return that\n",
    "        done is true alongside the final obs, which is the bust-value.\n",
    "        '''\n",
    "        \n",
    "        # Second element of the tuple is the range of possible values for the dealer's upcard. (2 through 11)\n",
    "        self.observation_space = spaces.Tuple((spaces.Discrete(18), spaces.Discrete(10)))\n",
    "        \n",
    "        self.done = False\n",
    "        \n",
    "    def _take_action(self, action):\n",
    "        if action == 0: # hit\n",
    "            self.player_hand.append(self.bj_deck.deal())\n",
    "            \n",
    "        # re-calculate the value of the player's hand after any changes to the hand.\n",
    "        self.player_value = player_eval(self.player_hand)\n",
    "    \n",
    "    def step(self, action):\n",
    "        self._take_action(action)\n",
    "        \n",
    "        # End the episode/game is the player stands or has a hand value >= 21.\n",
    "        self.done = action == 1 or self.player_value >= 21\n",
    "        \n",
    "        # rewards are 0 when the player hits and is still below 21, and they\n",
    "        # keep playing.\n",
    "        rewards = 0\n",
    "        \n",
    "        if self.done:\n",
    "            # CALCULATE REWARDS\n",
    "            if self.player_value > 21: # above 21, player loses automatically.\n",
    "                rewards = self.reward_options[\"lose\"]\n",
    "            elif self.player_value == 21: # blackjack! Player wins automatically.\n",
    "                rewards = self.reward_options[\"win\"]\n",
    "            else:\n",
    "                ## Begin dealer turn phase.\n",
    "\n",
    "                dealer_value, self.dealer_hand, self.bj_deck = dealer_turn(self.dealer_hand, self.bj_deck)\n",
    "\n",
    "                ## End of dealer turn phase\n",
    "\n",
    "                #------------------------------------------------------------#\n",
    "\n",
    "                ## Final Compare\n",
    "\n",
    "                if dealer_value > 21: # dealer above 21, player wins automatically\n",
    "                    rewards = self.reward_options[\"win\"]\n",
    "                elif dealer_value == 21: # dealer has blackjack, player loses automatically\n",
    "                    rewards = self.reward_options[\"lose\"]\n",
    "                else: # dealer and player have values less than 21.\n",
    "                    if self.player_value > dealer_value: # player closer to 21, player wins.\n",
    "                        rewards = self.reward_options[\"win\"]\n",
    "                    elif self.player_value < dealer_value: # dealer closer to 21, dealer wins.\n",
    "                        rewards = self.reward_options[\"lose\"]\n",
    "                    else:\n",
    "                        rewards = self.reward_options[\"tie\"]\n",
    "        \n",
    "        self.balance += rewards\n",
    "        \n",
    "        \n",
    "        # Subtract by 1 to fit into the possible observation range.\n",
    "        # This makes the possible range of 3 through 20 into 1 through 18\n",
    "        player_value_obs = self.player_value - 2\n",
    "        \n",
    "        # get the value of the dealer's upcard, this value is what the agent sees.\n",
    "        # Subtract by 1 to fit the possible observation range of 1 to 10.\n",
    "        upcard_value_obs = dealer_eval([self.dealer_upcard]) - 1\n",
    "        \n",
    "        # the state is represented as a player hand-value + dealer upcard pair.\n",
    "        obs = np.array([player_value_obs, upcard_value_obs])\n",
    "        \n",
    "        return obs, rewards, self.done, {}\n",
    "    \n",
    "    def reset(self): # resets game to an initial state\n",
    "        # Add the player and dealer cards back into the deck.\n",
    "        self.bj_deck.cards += self.player_hand + self.dealer_hand\n",
    "\n",
    "        # Shuffle before beginning. Only shuffle once before the start of each game.\n",
    "        self.bj_deck.shuffle()\n",
    "         \n",
    "        self.balance = INITIAL_BALANCE\n",
    "        \n",
    "        self.done = False\n",
    "        \n",
    "        # returns the start state for the agent\n",
    "        # deal 2 cards to the agent and the dealer\n",
    "        self.player_hand = [self.bj_deck.deal(), self.bj_deck.deal()]\n",
    "        self.dealer_hand = [self.bj_deck.deal(), self.bj_deck.deal()]\n",
    "        self.dealer_upcard = self.dealer_hand[0]\n",
    "        \n",
    "        # calculate the value of the agent's hand\n",
    "        self.player_value = player_eval(self.player_hand)\n",
    "        \n",
    "        # Subtract by 1 to fit into the possible observation range.\n",
    "        # This makes the possible range of 2 through 20 into 1 through 18\n",
    "        player_value_obs = self.player_value - 2\n",
    "            \n",
    "        # get the value of the dealer's upcard, this value is what the agent sees.\n",
    "        # Subtract by 1 to fit the possible observation range of 1 to 10.\n",
    "        upcard_value_obs = dealer_eval([self.dealer_upcard]) - 1\n",
    "        \n",
    "        # the state is represented as a player hand-value + dealer upcard pair.\n",
    "        obs = np.array([player_value_obs, upcard_value_obs])\n",
    "        \n",
    "        return obs\n",
    "    \n",
    "    def render(self, mode='human', close=False):\n",
    "        # convert the player hand into a format that is\n",
    "        # easy to read and understand.\n",
    "        hand_list = []\n",
    "        for card in self.player_hand:\n",
    "            hand_list.append(card.rank)\n",
    "            \n",
    "        # re-calculate the value of the dealer upcard.\n",
    "        upcard_value = dealer_eval([self.dealer_upcard])\n",
    "        \n",
    "        print(f'Balance: {self.balance}')\n",
    "        print(f'Player Hand: {hand_list}')\n",
    "        print(f'Player Value: {self.player_value}')\n",
    "        print(f'Dealer Upcard: {upcard_value}')\n",
    "        print(f'Done: {self.done}')\n",
    "        \n",
    "        print()"
   ]
  },
  {
   "cell_type": "markdown",
   "metadata": {},
   "source": [
    "## Test the OpenAI Gym Blackjack Environment"
   ]
  },
  {
   "cell_type": "code",
   "execution_count": 27,
   "metadata": {},
   "outputs": [
    {
     "name": "stdout",
     "output_type": "stream",
     "text": [
      "-34.7\n"
     ]
    }
   ],
   "source": [
    "env = BlackjackEnv()\n",
    "\n",
    "total_rewards = 0\n",
    "NUM_EPISODES = 1000\n",
    "\n",
    "for _ in range(NUM_EPISODES):\n",
    "    env.reset()\n",
    "    \n",
    "    episode_reward = 0\n",
    "    while env.done == False:\n",
    "        action = env.action_space.sample()\n",
    "\n",
    "        new_state, reward, done, desc = env.step(action)\n",
    "        \n",
    "        episode_reward += reward\n",
    "        \n",
    "    total_rewards += episode_reward\n",
    "        \n",
    "avg_reward = total_rewards / NUM_EPISODES\n",
    "print(avg_reward)"
   ]
  },
  {
   "cell_type": "markdown",
   "metadata": {},
   "source": [
    "# Implement First-Visit Monte Carlo Algorithm"
   ]
  },
  {
   "cell_type": "code",
   "execution_count": 28,
   "metadata": {},
   "outputs": [],
   "source": [
    "import numpy as np\n",
    "import random"
   ]
  },
  {
   "cell_type": "markdown",
   "metadata": {},
   "source": [
    "### run_mc() to run the First-Visit Monte Carlo Algorithm\n",
    "\n",
    "This function initializes the key variables for the algorithm and runs the learning algorithm for the AI agent for `num_episodes` episodes. An episode is a simulation of one game of Blackjack using the OpenAI Gym environment defined above.  \n",
    "\n",
    "`Q`, or the Q-table, is a 2-D list in which the rows are the different possible states and the columns are the different possible actions for each state. The values stores in each cell refer to the value, or Q-value, of selecting some action (the column index) given some state (the row index). These Q-values start at 0 for every state-action pair, and are updated by the update_Q() function after each episode to reflect the rewards received in an episode where the state-action pair occured. All Q-values initially start at 0.  \n",
    "\n",
    "`prob`, or the prob table, has the same structure as `Q`, but the cell values refer to the probability of selecting some action (the column index) given some state (the row index). These probabilities are updated by the update_prob() function after the Q-values are updated after each episode. All action probabilties start at 0.5 (or 50%).  \n",
    "\n",
    "`alpha` defines the weight given to each new change in Q-value within the update_Q() function. A smaller `alpha` means that a new reward logged in an episode for some state-action pair has less impact on the current Q-value for that state-action pair. The converse is also true. Therefore, `alpha` essentially defines how fast the AI agent learns.  \n",
    "\n",
    "`epsilon` defines the weight given to each new change in the action probabilities within the update_prob() function. A larger `epsilon` reduces the % amount by which an action probability is changed after some changes in Q-values. The converse is also true. An `epsilon` of 1 means that no change will occur in the action probability, regardless of the magnitude of changes in Q-values.  \n",
    "\n",
    "`epsilon` is decayed by the `decay` value after every episode. The lowest value `epsilon` can reach is `epsilon_min`.  \n",
    "\n",
    "`gamma` is the rate used to discount future rewards yielded by a certain state-action pair in the episode. Since a round (or episode) of Blackjack can have more than 1 decision made, there can be numerous state-action pairs that are seen in one episode. However, only the final decision (or state-action pair) yields an immediate reward from the environment. All previous state-action pairs had no rewards. So, the final reward must be used to modify the Q-values of the earlier state-action pairs. Since the final reward was only partially made possible by the earlier state-action pairs, the final reward is discounted using `gamma` to account for this.  \n",
    "\n",
    "Once these important variables are defined, this function runs the First-Visit Monte Carlo algorithm for the Blackjack environment.\n",
    "\n",
    "The function runs `num_episodes` episodes.  \n",
    "\n",
    "In each episode, `epsilon` is first decayed by the `decay` rate.  \n",
    "\n",
    "Then, the game of Blackjack is played out through the `play_game()` function. This function returns a list of the state-action-reward tuples that occured during the game. These tuples represent the actions the AI agent had to take given some state, and the rewards that resulted.  \n",
    "\n",
    "These tuples are used to modify the Q-values in `Q` through the `update_Q()` function.  \n",
    "\n",
    "Then, the tuples are used to modify the probability distributions in `prob` of the two actions (hit or stand) for any states that were encountered in the episode. This is done through the `update_prob()` function.\n",
    "\n",
    "After this process is done for each episode, the function returns the modified `Q` and `prob` tables. These tables are an imprint of the learning that has taken place by the AI agent through the First-Visit Monte Carlo algorithm."
   ]
  },
  {
   "cell_type": "code",
   "execution_count": 29,
   "metadata": {},
   "outputs": [],
   "source": [
    "def run_mc(env, num_episodes):\n",
    "    '''\n",
    "    observation_space[0] is the 18 possible player values. (3 through 20)\n",
    "    observation_space[1] is the 10 possible dealer upcards. (2 through 11)\n",
    "\n",
    "    Combining these together yields all possible states.\n",
    "\n",
    "    Multiplying this with hit/stand yields all possible state/action pairs.\n",
    "\n",
    "    This is the Q map.\n",
    "    '''\n",
    "    Q = np.zeros([env.observation_space[0].n * env.observation_space[1].n, env.action_space.n], dtype=np.float16)\n",
    "\n",
    "\n",
    "    # This map contains the probability distributions for each action (hit or stand) given a state.\n",
    "    # The state (combo of player hand value and dealer upcard value) index in this array yields a 2-element array\n",
    "    # The 0th index of this 2-element array refers to the probability of \"hit\", and the 1st index is the probability of \"stand\"\n",
    "    prob = np.zeros([env.observation_space[0].n * env.observation_space[1].n, env.action_space.n], dtype=np.float16) + 0.5\n",
    "\n",
    "    # The learning rate. Very small to avoid making quick, large changes in our policy.\n",
    "    alpha = 0.001\n",
    "\n",
    "    epsilon = 1\n",
    "    \n",
    "    # The rate by which epsilon will decay over time.\n",
    "    # Since the probability we take the option with the highest Q-value is 1-epsilon + probability,\n",
    "    # this decay will make sure we are the taking the better option more often in the longrun.\n",
    "    # This allows the algorithm to explore in the early stages, and exploit in the later stages.\n",
    "    decay = 0.9999\n",
    "    \n",
    "    # The lowest value that epsilon can go to.\n",
    "    # Although the decay seems slow, it actually grows exponentially, and this is magnified when\n",
    "    # running thousands of episodes.\n",
    "    epsilon_min = 0.9\n",
    "\n",
    "    # may have to be tweaked later.\n",
    "    gamma = 0.8\n",
    "    \n",
    "    for _ in range(num_episodes):\n",
    "        episode = play_game(env, Q, prob)\n",
    "        \n",
    "        epsilon = max(epsilon * decay, epsilon_min)\n",
    "        \n",
    "        Q = update_Q(env, episode, Q, alpha, gamma)\n",
    "        prob = update_prob(env, episode, Q, prob, epsilon)\n",
    "        \n",
    "    return Q, prob"
   ]
  },
  {
   "cell_type": "markdown",
   "metadata": {},
   "source": [
    "### play_game() function\n",
    "\n",
    "Simulates playing one round (or episode) or Blackjack.\n",
    "\n",
    "First, use env.reset() to set up a new round of Blackjack.\n",
    "\n",
    "If the player is already dealt a Blackjack by luck, then this episode is just scrapped. There is nothing the AI agent can learn from this episode since it did not have to make any decisions.\n",
    "\n",
    "Otherwise, the AI agent finds the best action available given the current state of the game and its knowledge so far. This knowledge is stored in the `Q`-table defined in the run_mc() function above. Then, the AI agent retrieves the probability that it should take this action from the `prob` table. The AI agent applies this probability and chooses its action given this state. The action is sent to the environment, and a reward is returned from the environment. The state-action-reward sequence that just occured is stored in `episode` as a tuple. This process is repeated until the current episode is over. Each episode will roughly yield 1-3 tuples in `episode` since Blackjack rounds are usually resolved after 1-3 decisions by the player.\n",
    "\n",
    "The Q-values in the `Q`-table associated with each state-action pair that was seen in this episode will be updated after this episode based on the state-action-reward tuples returned by this function. Then, the corresponding probabilities in `prob` are also modified to reflect this change in Q-values. "
   ]
  },
  {
   "cell_type": "code",
   "execution_count": 30,
   "metadata": {},
   "outputs": [],
   "source": [
    "def play_game(env, Q, prob):\n",
    "    # Can contain numerous state->action->reward tuples because a round of \n",
    "    # Blackjack is not always resolved in one turn.\n",
    "    # However, there will be no state that has a player hand value that exceeds 20, since only initial\n",
    "    # states BEFORE actions are made are used when storing state->action->reward tuples.\n",
    "    episode = []\n",
    "    \n",
    "    state = env.reset()\n",
    "    \n",
    "    while env.done == False:\n",
    "        if state[0] == 19: #Player was dealt Blackjack, player_value already subtracted by 2 to get state[0]\n",
    "            # don't do any episode analysis for this episode. This is a useless episode.\n",
    "            next_state, reward, env.done, info = env.step(1) # doesn't matter what action is taken.\n",
    "        else:\n",
    "            # Get the index in Q that corresponds to the current state\n",
    "            Q_state_index = get_Q_state_index(state)\n",
    "            \n",
    "            # Use the index to get the possible actions, and use np.argmax()\n",
    "            # to get the index of the action that has the highest current Q\n",
    "            # value. Index 0 is hit, index 1 is stand.\n",
    "            best_action = np.argmax(Q[Q_state_index])\n",
    "            \n",
    "            # Go to the prob table to retrieve the probability of this action.\n",
    "            # This uses the same Q_state_index used for finding the state index\n",
    "            # of the Q-array.\n",
    "            prob_of_best_action = get_prob_of_best_action(env, state, Q, prob)\n",
    "\n",
    "            action_to_take = None\n",
    "\n",
    "            if random.uniform(0,1) < prob_of_best_action: # Take the best action\n",
    "                action_to_take = best_action\n",
    "            else: # Take the other action\n",
    "                action_to_take = 1 if best_action == 0 else 0\n",
    "            \n",
    "            # The agent does the action, and we get the next state, the rewards,\n",
    "            # and whether the game is now done.\n",
    "            next_state, reward, env.done, info = env.step(action_to_take)\n",
    "            \n",
    "            # We now have a state->action->reward sequence we can log\n",
    "            # in `episode`\n",
    "            episode.append((state, action_to_take, reward))\n",
    "            \n",
    "            # update the state for the next decision made by the agent.\n",
    "            state = next_state\n",
    "        \n",
    "    return episode"
   ]
  },
  {
   "cell_type": "markdown",
   "metadata": {},
   "source": [
    "### update_Q() function\n",
    "\n",
    "This function iterates through the state-action-reward tuples in `episode` and updates the Q-values of the corresponding state-action pairs in `Q`.  \n",
    "\n"
   ]
  },
  {
   "cell_type": "code",
   "execution_count": 31,
   "metadata": {},
   "outputs": [],
   "source": [
    "def update_Q(env, episode, Q, alpha, gamma):\n",
    "    '''\n",
    "    THIS IS WHERE THE ALGORITHM HINGES ON BEING FIRST VISIT OR EVERY VISIT.\n",
    "    I AM GOING TO USE FIRST-VISIT, AND HERE'S WHY.\n",
    "    \n",
    "    If you want first-visit, you need to use the cumulative reward of the entire\n",
    "    episode when updating a Q-value for ALL of the state/action pairs in the\n",
    "    episode, even the first state/action pair. In this algorithm, an episode\n",
    "    is a round of Blackjack. Although the bulk of the reward may come from the\n",
    "    2nd or 3rd decision, deciding to hit on the 1st decision is what enabled\n",
    "    the future situations to even occur, so it is important to include the\n",
    "    entire cumulative reward. We can reduce the impact of the rewards of the\n",
    "    future decisions by lowering gamma, which will lower the G value for our\n",
    "    early state/action pair in which we hit and did not get any immediate rewards.\n",
    "    This will make our agent consider future rewards, and not just look at \n",
    "    each state in isolation despite having hit previously.\n",
    "     \n",
    "    If you want Every-Visit MC, do not use the cumulative rewards when updating Q-values,\n",
    "    and just use the immediate reward in this episode for each state/action pair.\n",
    "    '''\n",
    "    step = 0\n",
    "    for state, action, reward in episode:\n",
    "        # calculate the cumulative reward of taking this action in this state.\n",
    "        # Start from the immediate rewards, and use all the rewards from the\n",
    "        # subsequent states. Do not use rewards from previous states.\n",
    "        total_reward = 0\n",
    "        gamma_exp = 0\n",
    "        for curr_step in range(step, len(episode)):\n",
    "            curr_reward = episode[curr_step][2]\n",
    "            total_reward += (gamma ** gamma_exp) * curr_reward\n",
    "            gamma_exp += 1\n",
    "        \n",
    "        # Update the Q-value\n",
    "        Q_state_index = get_Q_state_index(state)\n",
    "        curr_Q_value = Q[Q_state_index][action]\n",
    "        Q[Q_state_index][action] = curr_Q_value + alpha * (total_reward - curr_Q_value)\n",
    "        \n",
    "        # update step to start further down the episode next time.\n",
    "        step += 1\n",
    "        \n",
    "        \n",
    "    return Q"
   ]
  },
  {
   "cell_type": "markdown",
   "metadata": {},
   "source": [
    "### update_prob() function"
   ]
  },
  {
   "cell_type": "code",
   "execution_count": 32,
   "metadata": {},
   "outputs": [],
   "source": [
    "def update_prob(env, episode, Q, prob, epsilon):\n",
    "    for state, action, reward in episode:\n",
    "        # Update the probabilities of the actions that can be taken given the current\n",
    "        # state. The goal is that the new update in Q has changed what the best action\n",
    "        # is, and epsilon will be used to create a small increase in the probability\n",
    "        # that the new, better action is chosen.\n",
    "        prob = update_prob_of_best_action(env, state, Q, prob, epsilon)\n",
    "        \n",
    "    return prob"
   ]
  },
  {
   "cell_type": "markdown",
   "metadata": {},
   "source": [
    "### A function to map a state from the Blackjack environment to the proper index in `Q` and `prob` tables."
   ]
  },
  {
   "cell_type": "code",
   "execution_count": 33,
   "metadata": {},
   "outputs": [],
   "source": [
    "# Given a state, derive the corresponding index in the Q-array.\n",
    "# The state is a player hand value + dealer upcard pair,\n",
    "# so a \"hashing\" formula must be used to allocate the\n",
    "# indices of the Q-array properly.\n",
    "def get_Q_state_index(state):\n",
    "    # the player value is already subtracted by 1 in the env when it returns the state.\n",
    "    # subtract by 1 again to fit with the array indexing that starts at 0\n",
    "    initial_player_value = state[0] - 1\n",
    "    # the upcard value is already subtracted by 1 in the env when it returns the state.\n",
    "    # dealer_upcard will be subtracted by 1 to fit with the array indexing that starts at 0\n",
    "    dealer_upcard = state[1] - 1\n",
    "\n",
    "    return (env.observation_space[1].n * (initial_player_value)) + (dealer_upcard)"
   ]
  },
  {
   "cell_type": "markdown",
   "metadata": {},
   "source": [
    "### Functions to get and update the probability of taking the best action for a given state."
   ]
  },
  {
   "cell_type": "code",
   "execution_count": 34,
   "metadata": {},
   "outputs": [],
   "source": [
    "def get_prob_of_best_action(env, state, Q, prob):\n",
    "    # Use the mapping function to figure out which index of Q corresponds to \n",
    "    # the player hand value + dealer upcard value that defines each state.\n",
    "    Q_state_index = get_Q_state_index(state)\n",
    "    \n",
    "    # Use this index in the Q 2-D array to get a 2-element array that yield\n",
    "    # the current Q-values for hitting (index 0) and standing (index 1) in this state.\n",
    "    # Use the np.argmax() function to find the index of the action that yields the\n",
    "    # rewards i.e. the best action we are looking for.\n",
    "    best_action = np.argmax(Q[Q_state_index])\n",
    "    \n",
    "    # Retrieve the probability of the best action using the \n",
    "    # state/action pair as indices for the `prob` array,\n",
    "    # which stores the probability of taking an action (hit or stand)\n",
    "    # for a given state/action pair.\n",
    "    return prob[Q_state_index][best_action]\n",
    "    \n",
    "def update_prob_of_best_action(env, state, Q, prob, epsilon):\n",
    "\n",
    "    Q_state_index = get_Q_state_index(state)\n",
    "    \n",
    "    best_action = np.argmax(Q[Q_state_index])\n",
    "    \n",
    "    # Slightly alter the probability of this best action being taken by using epsilon\n",
    "    # Epsilon starts at 1.0, and slowly decays over time.\n",
    "    # Therefore, as per the equation below, the AI agent will use the probability listed \n",
    "    # for the best action in the `prob` array during the beginning of the algorithm.\n",
    "    # As time goes on, the likelihood that the best action is taken is increased from\n",
    "    # what is listed in the `prob` array.\n",
    "    # This allows for exploration of other moves in the beginning of the algorithm,\n",
    "    # but exploitation later for a greater reward.\n",
    "    #prob[Q_state_index][best_action] = prob[Q_state_index][best_action] + ((1 - epsilon) * (1 - prob[Q_state_index][best_action]))\n",
    "    prob[Q_state_index][best_action] = min(1, prob[Q_state_index][best_action] + 1 - epsilon)\n",
    "    \n",
    "    other_action = 1 if best_action == 0 else 0\n",
    "    prob[Q_state_index][other_action] = 1 - prob[Q_state_index][best_action]\n",
    "    \n",
    "    return prob"
   ]
  },
  {
   "cell_type": "markdown",
   "metadata": {},
   "source": [
    "## Run First-Visit Monte Carlo Reinforcement Learning Algorithm"
   ]
  },
  {
   "cell_type": "code",
   "execution_count": 35,
   "metadata": {},
   "outputs": [
    {
     "name": "stdout",
     "output_type": "stream",
     "text": [
      "Total Time for Learning: 286.5933156013489\n"
     ]
    }
   ],
   "source": [
    "import time\n",
    "env = BlackjackEnv()\n",
    "\n",
    "start_time = time.time()\n",
    "new_Q, new_prob = run_mc(env, 1000000)\n",
    "end_time = time.time()\n",
    "\n",
    "print(\"Total Time for Learning: \" + str(end_time - start_time))"
   ]
  },
  {
   "cell_type": "markdown",
   "metadata": {},
   "source": [
    "## best_policy() function\n",
    "This function takes the new_Q Q-table returned by the First Visit MC algorithm and keeps only the action that yields the highest value for a given state.  \n",
    "\n",
    "This is represented in three different ways: binary, string, and colors.  \n",
    "0 is hit and 1 is stand in the binary representation of the results.  \n",
    "H is hit and S is stand in the binary representation of the results.  \n",
    "Green is hit and Red is stand in the binary representation of the results.  "
   ]
  },
  {
   "cell_type": "code",
   "execution_count": 36,
   "metadata": {},
   "outputs": [],
   "source": [
    "def best_policy(Q):\n",
    "    best_policy_binary = []\n",
    "    best_policy_string = []\n",
    "    best_policy_colors = []\n",
    "    for i in range(len(Q)):\n",
    "        best_policy_binary.append(np.argmax(Q[i]))\n",
    "        best_policy_string.append(\"H\" if np.argmax(Q[i]) == 0 else \"S\")\n",
    "        best_policy_colors.append(\"g\" if np.argmax(Q[i]) == 0 else \"r\")\n",
    "        \n",
    "    return best_policy_binary, best_policy_string, best_policy_colors"
   ]
  },
  {
   "cell_type": "markdown",
   "metadata": {},
   "source": [
    "## Create DataFrame w/ Player Value as Rows & Dealer Upcard as Columns"
   ]
  },
  {
   "cell_type": "code",
   "execution_count": 37,
   "metadata": {},
   "outputs": [],
   "source": [
    "import pandas as pd\n",
    "new_Q_binary, new_Q_string, new_Q_colors = best_policy(new_Q)\n",
    "\n",
    "df = pd.DataFrame(columns = range(2, 12))\n",
    "\n",
    "color_df = pd.DataFrame(columns = range(2, 12))\n",
    "\n",
    "for s in range(3, 21): # possible player values in the range 3 to 20\n",
    "    start = env.observation_space[1].n * (s-3)\n",
    "    end = start + 10\n",
    "    df.loc[s]=(new_Q_string[start:end])\n",
    "    color_df.loc[s]=(new_Q_colors[start:end])"
   ]
  },
  {
   "cell_type": "markdown",
   "metadata": {},
   "source": [
    "## Create Chart Graphic for the Results"
   ]
  },
  {
   "cell_type": "code",
   "execution_count": 38,
   "metadata": {},
   "outputs": [
    {
     "data": {
      "image/png": "[encoded data removed]",
      "text/plain": [
       "<Figure size 640x480 with 1 Axes>"
      ]
     },
     "metadata": {},
     "output_type": "display_data"
    }
   ],
   "source": [
    "import matplotlib.pyplot as plt\n",
    "\n",
    "fig, ax = plt.subplots()\n",
    "\n",
    "# hide axes\n",
    "fig.patch.set_visible(False)\n",
    "ax.set_axis_off()\n",
    "ax.axis('tight')\n",
    "\n",
    "ax.table(cellText=df.values, cellColours=color_df.values, cellLoc=\"center\", rowLabels=df.index, colLabels=df.columns, loc='center')\n",
    "\n",
    "fig.tight_layout()\n",
    "\n",
    "plt.show()"
   ]
  },
  {
   "cell_type": "markdown",
   "metadata": {},
   "source": [
    "## Test Best Policy on New Episodes"
   ]
  },
  {
   "cell_type": "code",
   "execution_count": 39,
   "metadata": {},
   "outputs": [
    {
     "name": "stdout",
     "output_type": "stream",
     "text": [
      "-4.401\n"
     ]
    }
   ],
   "source": [
    "import random\n",
    "env = BlackjackEnv()\n",
    "\n",
    "total_rewards = 0\n",
    "NUM_EPISODES = 100000\n",
    "\n",
    "for _ in range(NUM_EPISODES):\n",
    "    state = env.reset()\n",
    "\n",
    "    while env.done == False:\n",
    "        if state[0] == 19: # Player was dealt Blackjack\n",
    "            next_state, reward, env.done, info = env.step(1) # doesn't matter what action is taken.\n",
    "            # don't do any episode analysis for this episode. This is a useless episode.\n",
    "            total_rewards += reward\n",
    "        else:\n",
    "            Q_index = get_Q_state_index(state)\n",
    "            action = new_Q_binary[Q_index]\n",
    "\n",
    "            new_state, reward, done, desc = env.step(action)\n",
    "            state = new_state\n",
    "            total_rewards += reward\n",
    "        \n",
    "avg_reward = total_rewards / NUM_EPISODES\n",
    "print(avg_reward)"
   ]
  }
 ],
 "metadata": {
  "kernelspec": {
   "display_name": ".env",
   "language": "python",
   "name": "python3"
  },
  "language_info": {
   "codemirror_mode": {
    "name": "ipython",
    "version": 3
   },
   "file_extension": ".py",
   "mimetype": "text/x-python",
   "name": "python",
   "nbconvert_exporter": "python",
   "pygments_lexer": "ipython3",
   "version": "3.10.4 (tags/v3.10.4:9d38120, Mar 23 2022, 23:13:41) [MSC v.1929 64 bit (AMD64)]"
  },
  "vscode": {
   "interpreter": {
    "hash": "8c279f9fb1d4f34164f3b700920a894b9c74b78dcab48f4dada3476dfbe06821"
   }
  }
 },
 "nbformat": 4,
 "nbformat_minor": 2
}
