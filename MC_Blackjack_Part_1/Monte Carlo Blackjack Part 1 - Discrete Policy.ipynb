{
 "cells": [
  {
   "cell_type": "markdown",
   "metadata": {},
   "source": [
    "# Simulate Discrete Policy + Graph Results\n",
    "\n",
    "Discrete Policy:  \n",
    "If hand >= 18: player stands.  \n",
    "Else: Player hits."
   ]
  },
  {
   "cell_type": "markdown",
   "metadata": {},
   "source": [
    "**Implement Discrete Policy by defining what player should do on their turn.**"
   ]
  },
  {
   "cell_type": "code",
   "execution_count": 8,
   "metadata": {},
   "outputs": [],
   "source": [
    "def very_simple_policy(player_hand, deck):\n",
    "    player_value = player_eval(player_hand)\n",
    "    \n",
    "    # Implement Discrete Policy\n",
    "    # If hand >= 18, stand. Otherwise, hit.\n",
    "    while player_value < 18:\n",
    "        # hit\n",
    "        player_hand.append(deck.deal())\n",
    "        player_value = player_eval(player_hand)\n",
    "        \n",
    "    return player_value, player_hand, deck"
   ]
  },
  {
   "cell_type": "markdown",
   "metadata": {},
   "source": [
    "## Run 100,000 games with just 1 round in each to approximate average gain/loss per round."
   ]
  },
  {
   "cell_type": "markdown",
   "metadata": {},
   "source": [
    "**Run Simulations.**"
   ]
  },
  {
   "cell_type": "code",
   "execution_count": 15,
   "metadata": {},
   "outputs": [],
   "source": [
    "results = {}\n",
    "\n",
    "num_rds = 1\n",
    "num_games = 100000\n",
    "\n",
    "net_avg = 0\n",
    "\n",
    "for i in range(num_games):\n",
    "    net_avg += play_game(very_simple_policy, num_rounds = num_rds)\n",
    "net_avg /= num_games\n",
    "\n",
    "results[num_games] = net_avg"
   ]
  },
  {
   "cell_type": "markdown",
   "metadata": {},
   "source": [
    "**Graph the results.**"
   ]
  },
  {
   "cell_type": "code",
   "execution_count": 17,
   "metadata": {},
   "outputs": [
    {
     "data": {
      "image/png": "[encoded data removed]",
      "text/plain": [
       "<Figure size 432x288 with 1 Axes>"
      ]
     },
     "metadata": {
      "needs_background": "light"
     },
     "output_type": "display_data"
    }
   ],
   "source": [
    "# Load rewards to a df\n",
    "# x-axis will be # of games played. Not really an x-axis b/c there is just one value\n",
    "# y-axis will the avg gains/losses for any given round using Discrete Policy\n",
    "df = pd.DataFrame(list(results.values()), columns = [\"sums\"], index = results.keys())\n",
    "\n",
    "# sort by index align x/y axis properly\n",
    "df.sort_index(inplace=True)\n",
    "\n",
    "df.plot.bar()\n",
    "\n",
    "plt.xlabel(\"# of Rounds\")\n",
    "plt.ylabel(\"Avg Rewards per Round ($)\")\n",
    "plt.title(\"Avg Rewards per Round for 100,000 Rounds using Discrete Policy\")\n",
    "\n",
    "plt.show()"
   ]
  }
 ],
 "metadata": {
  "kernelspec": {
   "display_name": "Python 3",
   "language": "python",
   "name": "python3"
  },
  "language_info": {
   "codemirror_mode": {
    "name": "ipython",
    "version": 3
   },
   "file_extension": ".py",
   "mimetype": "text/x-python",
   "name": "python",
   "nbconvert_exporter": "python",
   "pygments_lexer": "ipython3",
   "version": "3.7.4"
  }
 },
 "nbformat": 4,
 "nbformat_minor": 2
}
