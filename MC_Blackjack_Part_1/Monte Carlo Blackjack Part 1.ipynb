{
 "cells": [
  {
   "cell_type": "code",
   "execution_count": 18,
   "metadata": {},
   "outputs": [],
   "source": [
    "import matplotlib.pyplot as plt\n",
    "import pandas as pd\n",
    "import random"
   ]
  },
  {
   "cell_type": "markdown",
   "metadata": {},
   "source": [
    "# Set up the game."
   ]
  },
  {
   "cell_type": "markdown",
   "metadata": {},
   "source": [
    "Define the rank and suit of a card."
   ]
  },
  {
   "cell_type": "code",
   "execution_count": 19,
   "metadata": {
    "scrolled": true
   },
   "outputs": [],
   "source": [
    "import enum\n",
    "\n",
    "ranks = {\n",
    "    \"two\" : 2,\n",
    "    \"three\" : 3,\n",
    "    \"four\" : 4,\n",
    "    \"five\" : 5,\n",
    "    \"six\" : 6,\n",
    "    \"seven\" : 7,\n",
    "    \"eight\" : 8,\n",
    "    \"nine\" : 9,\n",
    "    \"ten\" : 10,\n",
    "    \"jack\" : 10,\n",
    "    \"queen\" : 10,\n",
    "    \"king\" : 10,\n",
    "    \"ace\" : (1, 11)\n",
    "}\n",
    "    \n",
    "class Suit(enum.Enum):\n",
    "    spades = \"spades\"\n",
    "    clubs = \"clubs\"\n",
    "    diamonds = \"diamonds\"\n",
    "    hearts = \"hearts\""
   ]
  },
  {
   "cell_type": "markdown",
   "metadata": {},
   "source": [
    "Define a card and a deck.\n",
    "\n",
    "Implement shuffle, peek, & deal functions for the deck."
   ]
  },
  {
   "cell_type": "code",
   "execution_count": 20,
   "metadata": {
    "scrolled": true
   },
   "outputs": [],
   "source": [
    "class Card:\n",
    "    def __init__(self, suit, rank, value):\n",
    "        self.suit = suit\n",
    "        self.rank = rank\n",
    "        self.value = value\n",
    "        \n",
    "    def __str__(self):\n",
    "        return self.rank + \" of \" + self.suit.value\n",
    "\n",
    "class Deck:\n",
    "    def __init__(self, num=1):\n",
    "        self.cards = []\n",
    "        for i in range(num):\n",
    "            for suit in Suit:\n",
    "                for rank, value in ranks.items():\n",
    "                    self.cards.append(Card(suit, rank, value))\n",
    "                \n",
    "    def shuffle(self):\n",
    "        random.shuffle(self.cards)\n",
    "        \n",
    "    def deal(self):\n",
    "        return self.cards.pop(0)\n",
    "    \n",
    "    def peek(self):\n",
    "        if len(self.cards) > 0:\n",
    "            return self.cards[0]\n",
    "        \n",
    "    def add_to_bottom(self, card):\n",
    "        self.cards.append(card)\n",
    "        \n",
    "    def __str__(self):\n",
    "        result = \"\"\n",
    "        for card in self.cards:\n",
    "            result += str(card) + \"\\n\"\n",
    "        return result\n",
    "    \n",
    "    def __len__(self):\n",
    "        return len(self.cards)"
   ]
  },
  {
   "cell_type": "markdown",
   "metadata": {},
   "source": [
    "# Set up Blackjack"
   ]
  },
  {
   "cell_type": "markdown",
   "metadata": {},
   "source": [
    "### Define logic for evaluating the value of the dealer's hand.\n",
    "\n",
    "Trickiest part is defining the logic for Aces.\n",
    "\n",
    "_Dealer Logic will not change much! They must follow a set, predictable course of action._"
   ]
  },
  {
   "cell_type": "code",
   "execution_count": 21,
   "metadata": {},
   "outputs": [],
   "source": [
    "# This follows the same, official rules every time.\n",
    "# Still need to figure out what happens if there are multiple Aces.\n",
    "def dealer_eval(player_hand):\n",
    "    num_ace = 0\n",
    "    use_one = 0\n",
    "    for card in player_hand:\n",
    "        if card.rank == \"ace\":\n",
    "            num_ace += 1\n",
    "            use_one += card.value[0] # use 1 for Ace\n",
    "        else:\n",
    "            use_one += card.value\n",
    "    \n",
    "    if num_ace > 0:\n",
    "        # See if using 11 instead of 1 for the Aces gets the \n",
    "        # dealer's hand value closer to the [17, 21] range\n",
    "        \n",
    "        # The dealer will follow Hard 17 rules.\n",
    "        # This means the dealer will not hit again if\n",
    "        # the Ace yields a 17. \n",
    "        \n",
    "        # This also means that Aces initially declared as 11's can\n",
    "        # be changed to 1's as new cards come.\n",
    "        \n",
    "        ace_counter = 0\n",
    "        while ace_counter < num_ace:\n",
    "            # Only add by 10 b/c 1 is already added before\n",
    "            use_eleven = use_one + 10 \n",
    "            \n",
    "            if use_eleven > 21:\n",
    "                return use_one\n",
    "            elif use_eleven >= 17 and use_eleven <= 21:\n",
    "                return use_eleven\n",
    "            else:\n",
    "                # The case where even using Ace as eleven is less than 17.\n",
    "                use_one = use_eleven\n",
    "            \n",
    "            ace_counter += 1\n",
    "        \n",
    "        return use_one\n",
    "    else:\n",
    "        return use_one"
   ]
  },
  {
   "cell_type": "markdown",
   "metadata": {},
   "source": [
    "### Define logic for evaluating the value of the player's hand.\n",
    "\n",
    "Trickiest part is defining the logic for Aces. This logic can be implemented in different ways. I opted for an approach that tries to use an Ace as an 11 whenever possible, and only uses the Ace as a 1 when the alternative would make the player bust."
   ]
  },
  {
   "cell_type": "code",
   "execution_count": 22,
   "metadata": {},
   "outputs": [],
   "source": [
    "def player_eval(player_hand):\n",
    "    num_ace = 0\n",
    "    # use_one means that every ace that in the hand is counted as one.\n",
    "    use_one = 0\n",
    "    for card in player_hand:\n",
    "        if card.rank == \"ace\":\n",
    "            num_ace += 1\n",
    "            use_one += card.value[0] # use 1 for Ace\n",
    "        else:\n",
    "            use_one += card.value\n",
    "    \n",
    "    if num_ace > 0:\n",
    "        # Define player policy for Aces:\n",
    "        # Make Aces 11 if they get you to the range [18,21]\n",
    "        # Otherwise, use one.\n",
    "        \n",
    "        ace_counter = 0\n",
    "        while ace_counter < num_ace:\n",
    "            # Only add by 10 b/c 1 is already added before\n",
    "            use_eleven = use_one + 10 \n",
    "            \n",
    "            if use_eleven > 21:\n",
    "                return use_one\n",
    "            elif use_eleven >= 18 and use_eleven <= 21:\n",
    "                return use_eleven\n",
    "            else:\n",
    "                # This allows for some Aces to be 11s, and others to be 1.\n",
    "                use_one = use_eleven\n",
    "            \n",
    "            ace_counter += 1\n",
    "        \n",
    "        return use_one\n",
    "    else:\n",
    "        return use_one"
   ]
  },
  {
   "cell_type": "markdown",
   "metadata": {},
   "source": [
    "### Define logic for the dealer's turn.\n",
    "\n",
    "This will not change much since the dealer has to follow a defined protocol when making their moves."
   ]
  },
  {
   "cell_type": "code",
   "execution_count": 23,
   "metadata": {},
   "outputs": [],
   "source": [
    "def dealer_turn(dealer_hand, deck):\n",
    "    # Calculate dealer hand's value.\n",
    "    dealer_value = dealer_eval(dealer_hand)\n",
    "\n",
    "    # Define dealer policy (is fixed to official rules)\n",
    "\n",
    "    # The dealer keeps hitting until their total is 17 or more\n",
    "    while dealer_value < 17:\n",
    "        # hit\n",
    "        dealer_hand.append(deck.deal())\n",
    "        dealer_value = dealer_eval(dealer_hand)\n",
    "\n",
    "    return dealer_value, dealer_hand, deck"
   ]
  },
  {
   "cell_type": "markdown",
   "metadata": {},
   "source": [
    "### Main Blackjack play_game() function.\n",
    "\n",
    "Can use higher-order functions functionality to pick which player policy to use."
   ]
  },
  {
   "cell_type": "code",
   "execution_count": 24,
   "metadata": {},
   "outputs": [],
   "source": [
    "def play_game(player_policy, num_decks = 2, start_cash = 1000, num_rounds = 100):\n",
    "    # Our Blackjack deck will be made of 2 normal decks by default.\n",
    "    bj_deck = Deck(num_decks)\n",
    "\n",
    "    # Shuffle before beginning. Only shuffle once before the start of each game.\n",
    "    bj_deck.shuffle()\n",
    "    \n",
    "    # Keeps track of rewards/punishments. Also allows game to end before num_rounds.\n",
    "    player_cash = start_cash\n",
    "    \n",
    "    rounds_played = 0\n",
    "    \n",
    "    while rounds_played < num_rounds and player_cash > 0:\n",
    "        # Assume player bets 100 each round.\n",
    "        # Gains 100 for winning round.\n",
    "        # Loses 100 for losing round.\n",
    "        # Nothing happens if tie. (Needs to change when actually training, so that agent tries to win more than tie.)\n",
    "        \n",
    "        player_hand = [bj_deck.deal(), bj_deck.deal()]\n",
    "        dealer_hand = [bj_deck.deal(), bj_deck.deal()]\n",
    "        \n",
    "        # The current policy does not care about dealer's upcard.\n",
    "        #dealer_upcard = dealer_hand[0]\n",
    "        \n",
    "        ## Begin player turn phase.\n",
    "        \n",
    "        player_value, player_hand, bj_deck = player_policy(player_hand, bj_deck)\n",
    "            \n",
    "        ## Player turn phase over.\n",
    "        \n",
    "        #--------------------------------------------------------#\n",
    "        \n",
    "        ## Begin automated phase of the Dealer's Play and\n",
    "        ## determining the winner of the round.\n",
    "        \n",
    "        if player_value > 21: # above 21, player loses automatically.\n",
    "            player_cash -= 100\n",
    "        elif player_value == 21: # blackjack! Player wins automatically.\n",
    "            player_cash += 100\n",
    "        else:\n",
    "            ## Begin dealer turn phase.\n",
    "            \n",
    "            dealer_value, dealer_hand, bj_deck = dealer_turn(dealer_hand, bj_deck)\n",
    "                \n",
    "            ## End of dealer turn phase\n",
    "            \n",
    "            #------------------------------------------------------------#\n",
    "            \n",
    "            ## Final Compare\n",
    "            \n",
    "            if dealer_value > 21: # dealer above 21, player wins automatically\n",
    "                player_cash += 100\n",
    "            elif dealer_value == 21: # dealer has blackjack, player loses automatically\n",
    "                player_cash -= 100\n",
    "            else: # dealer and player have values less than 21.\n",
    "                if player_value > dealer_value: # player closer to 21, player wins.\n",
    "                    player_cash += 100\n",
    "                elif player_value < dealer_value: # dealer closer to 21, dealer wins.\n",
    "                    player_cash -= 100\n",
    "                # Nothing happens if a tie.\n",
    "                \n",
    "        ## End of round formalities\n",
    "        \n",
    "        # Add all cards to the end of deck, and shuffle. \n",
    "        # (Shuffling not usually done in casino blackjack.)\n",
    "        bj_deck.cards += player_hand\n",
    "        bj_deck.cards += dealer_hand\n",
    "        bj_deck.shuffle()\n",
    "            \n",
    "        rounds_played += 1\n",
    "        \n",
    "    # Returns net gains/losses of playing\n",
    "    return player_cash - start_cash"
   ]
  },
  {
   "cell_type": "markdown",
   "metadata": {},
   "source": [
    "# Simulate Discrete Policy + Graph Results\n",
    "\n",
    "Discrete Policy:  \n",
    "If hand >= 18: player stands.  \n",
    "Else: Player hits."
   ]
  },
  {
   "cell_type": "markdown",
   "metadata": {},
   "source": [
    "**Implement Discrete Policy by defining what player should do on their turn.**"
   ]
  },
  {
   "cell_type": "code",
   "execution_count": 25,
   "metadata": {},
   "outputs": [],
   "source": [
    "def discrete_policy(player_hand, deck):\n",
    "    player_value = player_eval(player_hand)\n",
    "    \n",
    "    # Implement Discrete Policy\n",
    "    # If hand >= 18, stand. Otherwise, hit.\n",
    "    while player_value < 18:\n",
    "        # hit\n",
    "        player_hand.append(deck.deal())\n",
    "        player_value = player_eval(player_hand)\n",
    "        \n",
    "    return player_value, player_hand, deck"
   ]
  },
  {
   "cell_type": "markdown",
   "metadata": {},
   "source": [
    "**Run Simulations.**"
   ]
  },
  {
   "cell_type": "code",
   "execution_count": 26,
   "metadata": {},
   "outputs": [],
   "source": [
    "results = {}\n",
    "\n",
    "for num_rds in range(50, 401, 25):\n",
    "    # Play 100 games in this num_rounds, find avg\n",
    "    net_avg = 0\n",
    "    for i in range(100):\n",
    "        net_avg += play_game(discrete_policy, num_rounds = num_rds)\n",
    "    net_avg /= 100\n",
    "    \n",
    "    results[num_rds] = net_avg"
   ]
  },
  {
   "cell_type": "markdown",
   "metadata": {},
   "source": [
    "**Graph the results.**"
   ]
  },
  {
   "cell_type": "code",
   "execution_count": 27,
   "metadata": {},
   "outputs": [
    {
     "data": {
      "image/png": "[encoded data removed]",
      "text/plain": [
       "<Figure size 432x288 with 1 Axes>"
      ]
     },
     "metadata": {
      "needs_background": "light"
     },
     "output_type": "display_data"
    }
   ],
   "source": [
    "# Load rewards to a df\n",
    "# x-axis will be # of rounds played\n",
    "# y-axis will the avg rewards for playing 100 games with x # of rounds each.\n",
    "df = pd.DataFrame(list(results.values()), columns = [\"sums\"], index = results.keys())\n",
    "\n",
    "# sort by index align x/y axis properly\n",
    "df.sort_index(inplace=True)\n",
    "\n",
    "df.plot.bar()\n",
    "\n",
    "plt.xlabel(\"# of Rounds in a game\")\n",
    "plt.ylabel(\"Net Avg Rewards ($)\")\n",
    "plt.title(\"Net Avg Reward for Varying Game Length with Discrete Policy\")\n",
    "\n",
    "plt.show()"
   ]
  },
  {
   "cell_type": "markdown",
   "metadata": {},
   "source": [
    "**Some Comments About this Approach**\n",
    "\n",
    "I have realized that this approach of making # of rounds the x-axis will not yield much useful intelligence. This approach is not really showing me the average value of this approach in any given round. Even if I were to use a policy much more optimized than Discrete Policy with, for example, only a 0.5% edge to the casino/dealer, the graph would still look like the graph above in the long run.\n",
    "\n",
    "This is because this tiny edge for the casino/dealer in any given round will compound as the game has more and more rounds.\n",
    "\n",
    "So, I will be simulating this differently below to get some insight into the average gain/loss per round using Discrete Policy"
   ]
  },
  {
   "cell_type": "markdown",
   "metadata": {},
   "source": [
    "## Run 100,000 games with just 1 round in each to approximate average gain/loss per round."
   ]
  },
  {
   "cell_type": "markdown",
   "metadata": {},
   "source": [
    "**Run Simulations.**"
   ]
  },
  {
   "cell_type": "code",
   "execution_count": 28,
   "metadata": {},
   "outputs": [],
   "source": [
    "results = {}\n",
    "\n",
    "num_rds = 1\n",
    "num_games = 100000\n",
    "\n",
    "net_avg = 0\n",
    "\n",
    "for i in range(num_games):\n",
    "    net_avg += play_game(discrete_policy, num_rounds = num_rds)\n",
    "net_avg /= num_games\n",
    "\n",
    "results[num_games] = net_avg"
   ]
  },
  {
   "cell_type": "markdown",
   "metadata": {},
   "source": [
    "**Graph the results.**"
   ]
  },
  {
   "cell_type": "code",
   "execution_count": 29,
   "metadata": {},
   "outputs": [
    {
     "data": {
      "image/png": "[encoded data removed]",
      "text/plain": [
       "<Figure size 432x288 with 1 Axes>"
      ]
     },
     "metadata": {
      "needs_background": "light"
     },
     "output_type": "display_data"
    }
   ],
   "source": [
    "# Load rewards to a df\n",
    "# x-axis will be # of games played. Not really an x-axis b/c there is just one value\n",
    "# y-axis will the avg gains/losses for any given round using Discrete Policy\n",
    "df = pd.DataFrame(list(results.values()), columns = [\"sums\"], index = results.keys())\n",
    "\n",
    "# sort by index align x/y axis properly\n",
    "df.sort_index(inplace=True)\n",
    "\n",
    "df.plot.bar()\n",
    "\n",
    "plt.xlabel(\"# of Rounds\")\n",
    "plt.ylabel(\"Avg Rewards per Round ($)\")\n",
    "plt.title(\"Avg Rewards per Round for 100,000 Rounds using Discrete Policy\")\n",
    "\n",
    "plt.show()"
   ]
  },
  {
   "cell_type": "markdown",
   "metadata": {},
   "source": [
    "# Simulate Stochastic Policy + Graph Results\n",
    "\n",
    "Stochastic Policy:  \n",
    "If hand >= 18: 80% player stands, 20% player hits  \n",
    "Else: 80% player hits, 20% player stands."
   ]
  },
  {
   "cell_type": "markdown",
   "metadata": {},
   "source": [
    "**Implement Stochastic Policy by defining what player should do on their turn.**"
   ]
  },
  {
   "cell_type": "code",
   "execution_count": 30,
   "metadata": {},
   "outputs": [],
   "source": [
    "def stochastic_policy(player_hand, deck):\n",
    "    player_value = player_eval(player_hand)\n",
    "    \n",
    "    # Implement Stochastic Policy\n",
    "    # If hand >= 18: 80% Stand, 20% Hit\n",
    "    # Else: 80% Hit, 20% Stand\n",
    "    \n",
    "    stand = False\n",
    "    while player_value < 18 and stand == False:\n",
    "        percent = random.randint(1, 10)\n",
    "        if percent <= 8:\n",
    "            # hit\n",
    "            player_hand.append(deck.deal())\n",
    "            player_value = player_eval(player_hand)\n",
    "        else:\n",
    "            # stand\n",
    "            stand = True\n",
    "    \n",
    "    if stand:\n",
    "        return player_value, player_hand, deck\n",
    "    \n",
    "    # player_value is now >= 18.\n",
    "    if player_value < 21:\n",
    "        percent = random.randint(1, 10)\n",
    "        if percent > 8:\n",
    "            # hit\n",
    "            player_hand.append(deck.deal())\n",
    "            player_value = player_eval(player_hand)        \n",
    "            \n",
    "        # else: Do nothing, stand.\n",
    "    # else: player_value is 21 or higher, so we must stand in both cases.\n",
    "    \n",
    "    return player_value, player_hand, deck"
   ]
  },
  {
   "cell_type": "markdown",
   "metadata": {},
   "source": [
    "**Run Simulations.**"
   ]
  },
  {
   "cell_type": "code",
   "execution_count": 31,
   "metadata": {},
   "outputs": [],
   "source": [
    "results = {}\n",
    "\n",
    "for num_rds in range(50, 401, 25):\n",
    "    # Play 100 games in this num_rounds, find avg\n",
    "    net_avg = 0\n",
    "    for i in range(100):\n",
    "        net_avg += play_game(player_policy = stochastic_policy, num_rounds = num_rds)\n",
    "    net_avg /= 100\n",
    "    \n",
    "    results[num_rds] = net_avg"
   ]
  },
  {
   "cell_type": "markdown",
   "metadata": {},
   "source": [
    "**Graph the results.**"
   ]
  },
  {
   "cell_type": "code",
   "execution_count": 32,
   "metadata": {},
   "outputs": [
    {
     "data": {
      "image/png": "[encoded data removed]",
      "text/plain": [
       "<Figure size 432x288 with 1 Axes>"
      ]
     },
     "metadata": {
      "needs_background": "light"
     },
     "output_type": "display_data"
    }
   ],
   "source": [
    "# Load rewards to a df\n",
    "# x-axis will be # of rounds played\n",
    "# y-axis will the avg rewards for playing 100 games with x # of rounds each.\n",
    "df = pd.DataFrame(list(results.values()), columns = [\"sums\"], index = results.keys())\n",
    "\n",
    "# sort by index align x/y axis properly\n",
    "df.sort_index(inplace=True)\n",
    "\n",
    "df.plot.bar()\n",
    "\n",
    "plt.xlabel(\"# of Rounds\")\n",
    "plt.ylabel(\"Avg Rewards per Round ($)\")\n",
    "plt.title(\"Net Avg Reward for Varying Game Length with Stochastic Policy\")\n",
    "\n",
    "plt.show()"
   ]
  },
  {
   "cell_type": "markdown",
   "metadata": {},
   "source": [
    "**Some Comments on this Approach**\n",
    "\n",
    "Like I mentioned for the Discrete Policy simulations, this is not a very efficient method for visualizing the approximate value of this particular policy.\n",
    "\n",
    "The only thing that can be gained from this is that the Stochastic Policy dips towards very negative average rewards per game much quicker and steeper than Discrete Policy.\n",
    "\n",
    "However, I will still need to do the other simulation where I play many, many games with 1 round each to get the average gains/losses for any given round/hand of Blackjack"
   ]
  },
  {
   "cell_type": "markdown",
   "metadata": {},
   "source": [
    "## Run 100,000 games with just 1 round in each to approximate average gain/loss per round."
   ]
  },
  {
   "cell_type": "markdown",
   "metadata": {},
   "source": [
    "**Run Simulations.**"
   ]
  },
  {
   "cell_type": "code",
   "execution_count": 35,
   "metadata": {},
   "outputs": [],
   "source": [
    "results = {}\n",
    "\n",
    "num_rds = 1\n",
    "num_games = 100000\n",
    "\n",
    "net_avg = 0\n",
    "\n",
    "for i in range(num_games):\n",
    "    net_avg += play_game(stochastic_policy, num_rounds = num_rds)\n",
    "net_avg /= num_games\n",
    "\n",
    "results[num_games] = net_avg"
   ]
  },
  {
   "cell_type": "markdown",
   "metadata": {},
   "source": [
    "**Graph the results.**"
   ]
  },
  {
   "cell_type": "code",
   "execution_count": 36,
   "metadata": {},
   "outputs": [
    {
     "data": {
      "image/png": "[encoded data removed]",
      "text/plain": [
       "<Figure size 432x288 with 1 Axes>"
      ]
     },
     "metadata": {
      "needs_background": "light"
     },
     "output_type": "display_data"
    }
   ],
   "source": [
    "# Load rewards to a df\n",
    "# x-axis will be # of games played. Not really an x-axis b/c there is just one value\n",
    "# y-axis will the avg gains/losses for any given round using Stochastic Policy\n",
    "df = pd.DataFrame(list(results.values()), columns = [\"sums\"], index = results.keys())\n",
    "\n",
    "# sort by index align x/y axis properly\n",
    "df.sort_index(inplace=True)\n",
    "\n",
    "df.plot.bar()\n",
    "\n",
    "plt.xlabel(\"# of Rounds\")\n",
    "plt.ylabel(\"Avg Rewards per Round ($)\")\n",
    "plt.title(\"Avg Rewards per Round for 100,000 Rounds using Stochastic Policy\")\n",
    "\n",
    "plt.show()"
   ]
  },
  {
   "cell_type": "markdown",
   "metadata": {},
   "source": [
    "## Discrete Policy vs Stochastic Policy\n",
    "\n",
    "By comparing the charts for these two policies, we can hypothesize that the Discrete Policy is a better approach to Blackjack than Stochastic Policy\n",
    "\n",
    "The graph for the Stochastic Policy shows that as the # of rounds per game increase, the net average rewards decline at a faster rate than that of the Discrete Policy. However, this is not a very reliable metric/visualization.\n",
    "\n",
    "The second pair of graphs that determine average rewards per round are much more insightful. The average result for any given round of Blackjack using Discrete Policy is about -\\\\$10. That value is about -\\\\$20 when using Stochastic Policy. Both strategies yield negative returns, meaning that a Blackjack player will only lose money in the long run by using either of these strategies.\n",
    "\n",
    "-\\\\$10 rewards for Discrete Policy means that the casino has an edge of about 10% when a player uses this strategy. This is because the max that a player can gain/lose in any given round in the current Blackjack environment is \\\\$100. So, -\\\\$10 rewards in the context of a max gain/loss of \\\\$100 is a 10% disadvantage. This means that Stochastic Policy yields a 20% disadvantage for the player. My goal is to employ Reinforcement Learning and Monte Carlo approaches to train my Blackjack agent to learn a policy that (hopefully) yields a positive edge for the player. Any % above 0% will suffice to guarantee net gains in the long run.\n",
    "\n",
    "I believe this discrepancy between Discrete Policy and Stochastic Policy is caused by the way the policies are defined. The Stochastic Policy is essentially a worse variation of the Discrete Policy. The Stochastic Policy introduces a 20% chance to make an ill-advised decision in 2 binary states. These binary states are: the player's hand value is >= 18 and the player's hand value is < 18. \n",
    "\n",
    "Standing when hand value >= 18 and hitting when hand value < 18 seem to be reasonably safe ways to play Blackjack. This is how Discrete Policy is defined. Although this policy is still very bad in a larger scope, it is understandable how Stochastic Policy makes Discrete Policy even worse. Adding a 20% chance to hit when hand value >= 18 seems to open the strategy up to more unneccesary losses in the long run. The same is also true of adding a 20% chance to stand when hand value < 18.\n",
    "\n",
    "For example, it is understandable to add the 20% chance to stand for hand values between 14-18. However, this 20% stand possibility also exists for all hand values below 14, which does not make much sense. Overall, the few advantages gained in the 14-18 hand value range do not outweigh the disastrous consequences on all hand values below 14."
   ]
  },
  {
   "cell_type": "markdown",
   "metadata": {},
   "source": [
    "## Simulate Using Edward O. Thorpe's Basic Strategy\n",
    "\n",
    "We can expect to see a 0.44% edge for the casino, which is much better than the Discrete Policy."
   ]
  },
  {
   "cell_type": "markdown",
   "metadata": {},
   "source": [
    "[Edward Thorpe's Basic Strategy Chart](http://www.chasingthefrog.com/reelfaces/21basicstrategy.php#:~:text=In%20his%201960s%20book%20Beat,following%20version%20of%20Edward%20O.)"
   ]
  },
  {
   "cell_type": "markdown",
   "metadata": {},
   "source": [
    "### Implement Edward Thorpe's Basic Strategy"
   ]
  },
  {
   "cell_type": "code",
   "execution_count": 43,
   "metadata": {},
   "outputs": [],
   "source": [
    "# 0 -> stand\n",
    "# 1 -> hit\n",
    "ss_chart = {\n",
    "    12 : [1,1,0,0,0,1,1,1,1,1],\n",
    "    13 : [0,0,0,0,0,1,1,1,1,1],\n",
    "    14 : [0,0,0,0,0,1,1,1,1,1],\n",
    "    15 : [0,0,0,0,0,1,1,1,1,1],\n",
    "    16 : [0,0,0,0,0,1,1,1,1,1]\n",
    "}\n",
    "\n",
    "def basic_strategy_policy(player_hand, dealer_upcard, deck):\n",
    "    player_value = player_eval(player_hand)\n",
    "    \n",
    "    while player_value < 17:\n",
    "        if player_value < 12: # Always hit if < 12\n",
    "            # hit\n",
    "            player_hand.append(deck.deal())\n",
    "            player_value = player_eval(player_hand)\n",
    "        else: # use ss_chart for >= 12 and < 17\n",
    "            action = None\n",
    "            if dealer_upcard.rank == \"ace\":\n",
    "                action = ss_chart[player_value][-1]\n",
    "            else:\n",
    "                action = ss_chart[player_value][dealer_upcard.value - 2]\n",
    "                \n",
    "            if action == 0: # stand\n",
    "                return player_value, player_hand, deck\n",
    "            else: # action == 1, which is hit\n",
    "                # hit\n",
    "                player_hand.append(deck.deal())\n",
    "                player_value = player_eval(player_hand)\n",
    "        \n",
    "    # Always stand if >= 17 and <= 21.\n",
    "    return player_value, player_hand, deck"
   ]
  },
  {
   "cell_type": "markdown",
   "metadata": {},
   "source": [
    "**Tweak play_game() to pass dealer_upcard into the player_policy.**"
   ]
  },
  {
   "cell_type": "code",
   "execution_count": 28,
   "metadata": {},
   "outputs": [],
   "source": [
    "def play_game(player_policy, num_decks = 2, start_cash = 1000, num_rounds = 100):\n",
    "    # Our Blackjack deck will be made of 2 normal decks by default.\n",
    "    bj_deck = Deck(num_decks)\n",
    "\n",
    "    # Shuffle before beginning. Only shuffle once before the start of each game.\n",
    "    bj_deck.shuffle()\n",
    "    \n",
    "    # Keeps track of rewards/punishments. Also allows game to end before num_rounds.\n",
    "    player_cash = start_cash\n",
    "    \n",
    "    rounds_played = 0\n",
    "    \n",
    "    while rounds_played < num_rounds and player_cash > 0:\n",
    "        # Assume player bets 100 each round.\n",
    "        # Gains 100 for winning round.\n",
    "        # Loses 100 for losing round.\n",
    "        # Nothing happens if tie. (Needs to change when actually training, so that agent tries to win more than tie.)\n",
    "        \n",
    "        player_hand = [bj_deck.deal(), bj_deck.deal()]\n",
    "        dealer_hand = [bj_deck.deal(), bj_deck.deal()]\n",
    "        \n",
    "        dealer_upcard = dealer_hand[0]\n",
    "        \n",
    "        ## Begin player turn phase.\n",
    "        \n",
    "        player_value, player_hand, bj_deck = player_policy(player_hand, dealer_upcard, bj_deck)\n",
    "            \n",
    "        ## Player turn phase over.\n",
    "        \n",
    "        #--------------------------------------------------------#\n",
    "        \n",
    "        ## Begin automated phase of the Dealer's Play and\n",
    "        ## determining the winner of the round.\n",
    "        \n",
    "        if player_value > 21: # above 21, player loses automatically.\n",
    "            player_cash -= 100\n",
    "        elif player_value == 21: # blackjack! Player wins automatically.\n",
    "            player_cash += 100\n",
    "        else:\n",
    "            ## Begin dealer turn phase.\n",
    "            \n",
    "            dealer_value, dealer_hand, bj_deck = dealer_turn(dealer_hand, bj_deck)\n",
    "                \n",
    "            ## End of dealer turn phase\n",
    "            \n",
    "            #------------------------------------------------------------#\n",
    "            \n",
    "            ## Final Compare\n",
    "            \n",
    "            if dealer_value > 21: # dealer above 21, player wins automatically\n",
    "                player_cash += 100\n",
    "            elif dealer_value == 21: # dealer has blackjack, player loses automatically\n",
    "                player_cash -= 100\n",
    "            else: # dealer and player have values less than 21.\n",
    "                if player_value > dealer_value: # player closer to 21, player wins.\n",
    "                    player_cash += 100\n",
    "                elif player_value < dealer_value: # dealer closer to 21, dealer wins.\n",
    "                    player_cash -= 100\n",
    "                # Nothing happens if a tie.\n",
    "                \n",
    "        ## End of round formalities\n",
    "        \n",
    "        # Add all cards to the end of deck, and shuffle. \n",
    "        # (Shuffling not usually done in casino blackjack.)\n",
    "        bj_deck.cards += player_hand\n",
    "        bj_deck.cards += dealer_hand\n",
    "        bj_deck.shuffle()\n",
    "            \n",
    "        rounds_played += 1\n",
    "        \n",
    "    # Returns net gains/losses of playing\n",
    "    return player_cash - start_cash"
   ]
  },
  {
   "cell_type": "markdown",
   "metadata": {},
   "source": [
    "**Run Simple Simulations.**\n",
    "\n",
    "Don't make x-axis # of rounds. Don't vary the number of rounds. The previous simulation shows that there aren't any reliable trends that can be observed by splitting it up by # of rounds.\n",
    "\n",
    "Focus more on just repeatedly running a game with a high, set # of rounds to get towards a average reward.\n",
    "\n",
    "Here, we opt for 10,000 games of 1 round each to see the average reward per round."
   ]
  },
  {
   "cell_type": "code",
   "execution_count": 46,
   "metadata": {},
   "outputs": [],
   "source": [
    "results = {}\n",
    "num_rds = 1\n",
    "num_games = 10000\n",
    "\n",
    "for i in range(num_games):\n",
    "    net_avg += play_game(basic_strategy_policy, num_rounds = num_rds)\n",
    "net_avg /= num_games\n",
    "\n",
    "results[num_games] = net_avg"
   ]
  },
  {
   "cell_type": "markdown",
   "metadata": {},
   "source": [
    "**Graph the results.**"
   ]
  },
  {
   "cell_type": "code",
   "execution_count": 48,
   "metadata": {},
   "outputs": [
    {
     "data": {
      "image/png": "[encoded data removed]",
      "text/plain": [
       "<Figure size 432x288 with 1 Axes>"
      ]
     },
     "metadata": {
      "needs_background": "light"
     },
     "output_type": "display_data"
    }
   ],
   "source": [
    "# Load rewards to a df\n",
    "# x-axis will be # of games played. Not really an x-axis b/c there is just one value\n",
    "# y-axis will the avg gains/losses for any given round using Thorpe's Basic Strategy Policy\n",
    "df = pd.DataFrame(list(results.values()), columns = [\"sums\"], index = results.keys())\n",
    "\n",
    "# sort by index align x/y axis properly\n",
    "df.sort_index(inplace=True)\n",
    "\n",
    "df.plot.bar()\n",
    "\n",
    "plt.xlabel(\"# of Rounds\")\n",
    "plt.ylabel(\"Avg Rewards per Round ($)\")\n",
    "plt.title(\"Avg Rewards per Round for 10,000 Rounds using Thorpe's Policy\")\n",
    "\n",
    "plt.show()"
   ]
  },
  {
   "cell_type": "markdown",
   "metadata": {},
   "source": [
    "### Analysis/Comments on Simulating Edward Thorpe's Basic Strategy\n",
    "\n",
    "The chart above shows that this simulation did not yield the actual 0.44\\% casino edge that is expected of Edward Thorpe's Basic Strategy chart. Instead, my simulation yielded approximately a 4.5\\% casino edge. Although this simulation missed the expected 0.44\\%, this is still a vast improvement from my previous best policy (Discrete Policy). \n",
    "\n",
    "This also motivates me to figure out where this simulation approach went wrong, and how I can improve to get closer to the goal of 0.44%. I think the main reason that my simulations are running sub-optimally is due to the numerous simplifications I made to my version of Blackjack compared to the real game. As a result, there are many nuances of Edward Thorpe's Basic Strategy that are left out. For example, I did not factor in any of Edward Thorpe's logic for playing with Aces in your hand. I just considered the Ace being treated as 1s or 11s and following the simplified chart logic for whatever the hand total happened to be. \n",
    "\n",
    "Additionally, I did not give the player the option to double their bet in my version of Blackjack. Edward Thorpe's Basic Strategy does instruct the player to double-down on their bet in particularly high-value positions. If my simulation were to account for this, I think there would more instances where my player gained a larger reward than they would have in my simplified model, which would have yielded a lower casino edge as a result.\n",
    "\n",
    "Also, I did not explore any of the nuances regarding splitting your Blackjack hand when having a pair of the same rank."
   ]
  }
 ],
 "metadata": {
  "kernelspec": {
   "display_name": "Python 3",
   "language": "python",
   "name": "python3"
  },
  "language_info": {
   "codemirror_mode": {
    "name": "ipython",
    "version": 3
   },
   "file_extension": ".py",
   "mimetype": "text/x-python",
   "name": "python",
   "nbconvert_exporter": "python",
   "pygments_lexer": "ipython3",
   "version": "3.7.4"
  }
 },
 "nbformat": 4,
 "nbformat_minor": 2
}
